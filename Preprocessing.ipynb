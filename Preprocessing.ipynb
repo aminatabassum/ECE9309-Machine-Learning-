{
 "cells": [
  {
   "cell_type": "code",
   "execution_count": 1,
   "metadata": {},
   "outputs": [],
   "source": [
    "import numpy as np\n",
    "import pandas as pd \n",
    "import cv2\n",
    "import os"
   ]
  },
  {
   "cell_type": "code",
   "execution_count": 2,
   "metadata": {},
   "outputs": [],
   "source": [
    "video_path='EchoNet-Dynamic/EchoNet-Dynamic/Videos'"
   ]
  },
  {
   "cell_type": "code",
   "execution_count": null,
   "metadata": {},
   "outputs": [
    {
     "ename": "error",
     "evalue": "OpenCV(4.11.0) D:\\a\\opencv-python\\opencv-python\\opencv\\modules\\imgproc\\src\\resize.cpp:4208: error: (-215:Assertion failed) !ssize.empty() in function 'cv::resize'\n",
     "output_type": "error",
     "traceback": [
      "\u001b[1;31m---------------------------------------------------------------------------\u001b[0m",
      "\u001b[1;31merror\u001b[0m                                     Traceback (most recent call last)",
      "Cell \u001b[1;32mIn[4], line 5\u001b[0m\n\u001b[0;32m      3\u001b[0m \u001b[38;5;28;01mwhile\u001b[39;00m cap\u001b[38;5;241m.\u001b[39misOpened():\n\u001b[0;32m      4\u001b[0m     ret,frame\u001b[38;5;241m=\u001b[39mcap\u001b[38;5;241m.\u001b[39mread()\n\u001b[1;32m----> 5\u001b[0m     frame\u001b[38;5;241m=\u001b[39m\u001b[43mcv2\u001b[49m\u001b[38;5;241;43m.\u001b[39;49m\u001b[43mresize\u001b[49m\u001b[43m(\u001b[49m\u001b[43mframe\u001b[49m\u001b[43m,\u001b[49m\u001b[43m(\u001b[49m\u001b[38;5;241;43m540\u001b[39;49m\u001b[43m,\u001b[49m\u001b[38;5;241;43m380\u001b[39;49m\u001b[43m)\u001b[49m\u001b[43m,\u001b[49m\u001b[43mfx\u001b[49m\u001b[38;5;241;43m=\u001b[39;49m\u001b[38;5;241;43m0\u001b[39;49m\u001b[43m,\u001b[49m\u001b[43mfy\u001b[49m\u001b[38;5;241;43m=\u001b[39;49m\u001b[38;5;241;43m0\u001b[39;49m\u001b[43m,\u001b[49m\u001b[43minterpolation\u001b[49m\u001b[38;5;241;43m=\u001b[39;49m\u001b[43mcv2\u001b[49m\u001b[38;5;241;43m.\u001b[39;49m\u001b[43mINTER_CUBIC\u001b[49m\u001b[43m)\u001b[49m\n\u001b[0;32m      6\u001b[0m     \u001b[38;5;28;01mif\u001b[39;00m \u001b[38;5;129;01mnot\u001b[39;00m ret:\n\u001b[0;32m      7\u001b[0m         \u001b[38;5;28;01mbreak\u001b[39;00m\n",
      "\u001b[1;31merror\u001b[0m: OpenCV(4.11.0) D:\\a\\opencv-python\\opencv-python\\opencv\\modules\\imgproc\\src\\resize.cpp:4208: error: (-215:Assertion failed) !ssize.empty() in function 'cv::resize'\n"
     ]
    },
    {
     "ename": "",
     "evalue": "",
     "output_type": "error",
     "traceback": [
      "\u001b[1;31mThe Kernel crashed while executing code in the current cell or a previous cell. \n",
      "\u001b[1;31mPlease review the code in the cell(s) to identify a possible cause of the failure. \n",
      "\u001b[1;31mClick <a href='https://aka.ms/vscodeJupyterKernelCrash'>here</a> for more info. \n",
      "\u001b[1;31mView Jupyter <a href='command:jupyter.viewOutput'>log</a> for further details."
     ]
    }
   ],
   "source": [
    "vide='EchoNet-Dynamic/EchoNet-Dynamic/Videos/0X1A0A263B22CCD966.avi'\n",
    "cap=cv2.VideoCapture(vide)\n",
    "while cap.isOpened():\n",
    "    ret,frame=cap.read()\n",
    "    frame=cv2.resize(frame,(540,380),fx=0,fy=0,interpolation=cv2.INTER_CUBIC)\n",
    "    if not ret:\n",
    "        break\n",
    "    cv2.imshow('Video',frame)\n",
    "    if cv2.waitKey(25) & 0xFF == ord('q'):\n",
    "        break\n",
    "cap.release()\n",
    "cv2.destroyAllWindows()\n",
    "   \n"
   ]
  },
  {
   "cell_type": "code",
   "execution_count": null,
   "metadata": {},
   "outputs": [],
   "source": [
    "def play_video(video_path):\n",
    "    cap=cv2.VideoCapture(video_path)\n",
    "    while cap.isOpened():\n",
    "        ret,frame=cap.read()\n",
    "        if not ret:\n",
    "            break\n",
    "        cv2.imshow('Video',frame)\n",
    "        if cv2.waitKey(25) & 0xFF == ord('q'):\n",
    "            break\n",
    "    cap.release()\n",
    "    cv2.destroyAllWindows()\n",
    "\n",
    "\n",
    "\n"
   ]
  },
  {
   "cell_type": "code",
   "execution_count": 8,
   "metadata": {},
   "outputs": [
    {
     "name": "stdout",
     "output_type": "stream",
     "text": [
      "playing 0X100009310A3BD7FC.avi\n",
      "playing 0X1002E8FBACD08477.avi\n",
      "playing 0X1005D03EED19C65B.avi\n",
      "playing 0X10075961BC11C88E.avi\n",
      "playing 0X10094BA0A028EAC3.avi\n",
      "playing 0X100CF05D141FF143.avi\n"
     ]
    },
    {
     "ename": "KeyboardInterrupt",
     "evalue": "",
     "output_type": "error",
     "traceback": [
      "\u001b[1;31m---------------------------------------------------------------------------\u001b[0m",
      "\u001b[1;31mKeyboardInterrupt\u001b[0m                         Traceback (most recent call last)",
      "Cell \u001b[1;32mIn[8], line 5\u001b[0m\n\u001b[0;32m      3\u001b[0m path\u001b[38;5;241m=\u001b[39mos\u001b[38;5;241m.\u001b[39mpath\u001b[38;5;241m.\u001b[39mjoin(video_path,v)\n\u001b[0;32m      4\u001b[0m \u001b[38;5;28mprint\u001b[39m(\u001b[38;5;124mf\u001b[39m\u001b[38;5;124m'\u001b[39m\u001b[38;5;124mplaying \u001b[39m\u001b[38;5;132;01m{\u001b[39;00mv\u001b[38;5;132;01m}\u001b[39;00m\u001b[38;5;124m'\u001b[39m)\n\u001b[1;32m----> 5\u001b[0m \u001b[43mplay_video\u001b[49m\u001b[43m(\u001b[49m\u001b[43mpath\u001b[49m\u001b[43m)\u001b[49m\n",
      "Cell \u001b[1;32mIn[7], line 8\u001b[0m, in \u001b[0;36mplay_video\u001b[1;34m(video_path)\u001b[0m\n\u001b[0;32m      6\u001b[0m         \u001b[38;5;28;01mbreak\u001b[39;00m\n\u001b[0;32m      7\u001b[0m     cv2\u001b[38;5;241m.\u001b[39mimshow(\u001b[38;5;124m'\u001b[39m\u001b[38;5;124mVideo\u001b[39m\u001b[38;5;124m'\u001b[39m,frame)\n\u001b[1;32m----> 8\u001b[0m     \u001b[38;5;28;01mif\u001b[39;00m \u001b[43mcv2\u001b[49m\u001b[38;5;241;43m.\u001b[39;49m\u001b[43mwaitKey\u001b[49m\u001b[43m(\u001b[49m\u001b[38;5;241;43m25\u001b[39;49m\u001b[43m)\u001b[49m \u001b[38;5;241m&\u001b[39m \u001b[38;5;241m0xFF\u001b[39m \u001b[38;5;241m==\u001b[39m \u001b[38;5;28mord\u001b[39m(\u001b[38;5;124m'\u001b[39m\u001b[38;5;124mq\u001b[39m\u001b[38;5;124m'\u001b[39m):\n\u001b[0;32m      9\u001b[0m         \u001b[38;5;28;01mbreak\u001b[39;00m\n\u001b[0;32m     10\u001b[0m cap\u001b[38;5;241m.\u001b[39mrelease()\n",
      "\u001b[1;31mKeyboardInterrupt\u001b[0m: "
     ]
    }
   ],
   "source": [
    "for v in os.listdir(video_path):\n",
    "    if v.endswith('.avi'):\n",
    "        path=os.path.join(video_path,v)\n",
    "        print(f'playing {v}')\n",
    "        play_video(path)\n"
   ]
  },
  {
   "cell_type": "code",
   "execution_count": 5,
   "metadata": {},
   "outputs": [
    {
     "name": "stdout",
     "output_type": "stream",
     "text": [
      "size of data is: 10030\n"
     ]
    }
   ],
   "source": [
    "data=pd.read_csv('EchoNet-Dynamic/EchoNet-Dynamic/FileList.csv')\n",
    "print(f'size of data is: {len(data)}')"
   ]
  },
  {
   "cell_type": "code",
   "execution_count": 6,
   "metadata": {},
   "outputs": [
    {
     "data": {
      "application/vnd.microsoft.datawrangler.viewer.v0+json": {
       "columns": [
        {
         "name": "index",
         "rawType": "int64",
         "type": "integer"
        },
        {
         "name": "FileName",
         "rawType": "object",
         "type": "string"
        },
        {
         "name": "EF",
         "rawType": "float64",
         "type": "float"
        },
        {
         "name": "ESV",
         "rawType": "float64",
         "type": "float"
        },
        {
         "name": "EDV",
         "rawType": "float64",
         "type": "float"
        },
        {
         "name": "FrameHeight",
         "rawType": "int64",
         "type": "integer"
        },
        {
         "name": "FrameWidth",
         "rawType": "int64",
         "type": "integer"
        },
        {
         "name": "FPS",
         "rawType": "int64",
         "type": "integer"
        },
        {
         "name": "NumberOfFrames",
         "rawType": "int64",
         "type": "integer"
        },
        {
         "name": "Split",
         "rawType": "object",
         "type": "string"
        }
       ],
       "conversionMethod": "pd.DataFrame",
       "ref": "5fe37ad4-e075-448d-8f87-1d0f9554d71e",
       "rows": [
        [
         "0",
         "0X100009310A3BD7FC",
         "78.49840597",
         "14.88136797",
         "69.21053366",
         "112",
         "112",
         "50",
         "174",
         "VAL"
        ],
        [
         "1",
         "0X1002E8FBACD08477",
         "59.10198811",
         "40.38387624",
         "98.74288352",
         "112",
         "112",
         "50",
         "215",
         "TRAIN"
        ],
        [
         "2",
         "0X1005D03EED19C65B",
         "62.36379841",
         "14.2677839",
         "37.90973395",
         "112",
         "112",
         "50",
         "104",
         "TRAIN"
        ],
        [
         "3",
         "0X10075961BC11C88E",
         "54.54509675",
         "33.14308352",
         "72.91420979",
         "112",
         "112",
         "55",
         "122",
         "TRAIN"
        ],
        [
         "4",
         "0X10094BA0A028EAC3",
         "24.88774165",
         "127.5819446",
         "169.8550242",
         "112",
         "112",
         "52",
         "207",
         "VAL"
        ]
       ],
       "shape": {
        "columns": 9,
        "rows": 5
       }
      },
      "text/html": [
       "<div>\n",
       "<style scoped>\n",
       "    .dataframe tbody tr th:only-of-type {\n",
       "        vertical-align: middle;\n",
       "    }\n",
       "\n",
       "    .dataframe tbody tr th {\n",
       "        vertical-align: top;\n",
       "    }\n",
       "\n",
       "    .dataframe thead th {\n",
       "        text-align: right;\n",
       "    }\n",
       "</style>\n",
       "<table border=\"1\" class=\"dataframe\">\n",
       "  <thead>\n",
       "    <tr style=\"text-align: right;\">\n",
       "      <th></th>\n",
       "      <th>FileName</th>\n",
       "      <th>EF</th>\n",
       "      <th>ESV</th>\n",
       "      <th>EDV</th>\n",
       "      <th>FrameHeight</th>\n",
       "      <th>FrameWidth</th>\n",
       "      <th>FPS</th>\n",
       "      <th>NumberOfFrames</th>\n",
       "      <th>Split</th>\n",
       "    </tr>\n",
       "  </thead>\n",
       "  <tbody>\n",
       "    <tr>\n",
       "      <th>0</th>\n",
       "      <td>0X100009310A3BD7FC</td>\n",
       "      <td>78.498406</td>\n",
       "      <td>14.881368</td>\n",
       "      <td>69.210534</td>\n",
       "      <td>112</td>\n",
       "      <td>112</td>\n",
       "      <td>50</td>\n",
       "      <td>174</td>\n",
       "      <td>VAL</td>\n",
       "    </tr>\n",
       "    <tr>\n",
       "      <th>1</th>\n",
       "      <td>0X1002E8FBACD08477</td>\n",
       "      <td>59.101988</td>\n",
       "      <td>40.383876</td>\n",
       "      <td>98.742884</td>\n",
       "      <td>112</td>\n",
       "      <td>112</td>\n",
       "      <td>50</td>\n",
       "      <td>215</td>\n",
       "      <td>TRAIN</td>\n",
       "    </tr>\n",
       "    <tr>\n",
       "      <th>2</th>\n",
       "      <td>0X1005D03EED19C65B</td>\n",
       "      <td>62.363798</td>\n",
       "      <td>14.267784</td>\n",
       "      <td>37.909734</td>\n",
       "      <td>112</td>\n",
       "      <td>112</td>\n",
       "      <td>50</td>\n",
       "      <td>104</td>\n",
       "      <td>TRAIN</td>\n",
       "    </tr>\n",
       "    <tr>\n",
       "      <th>3</th>\n",
       "      <td>0X10075961BC11C88E</td>\n",
       "      <td>54.545097</td>\n",
       "      <td>33.143084</td>\n",
       "      <td>72.914210</td>\n",
       "      <td>112</td>\n",
       "      <td>112</td>\n",
       "      <td>55</td>\n",
       "      <td>122</td>\n",
       "      <td>TRAIN</td>\n",
       "    </tr>\n",
       "    <tr>\n",
       "      <th>4</th>\n",
       "      <td>0X10094BA0A028EAC3</td>\n",
       "      <td>24.887742</td>\n",
       "      <td>127.581945</td>\n",
       "      <td>169.855024</td>\n",
       "      <td>112</td>\n",
       "      <td>112</td>\n",
       "      <td>52</td>\n",
       "      <td>207</td>\n",
       "      <td>VAL</td>\n",
       "    </tr>\n",
       "  </tbody>\n",
       "</table>\n",
       "</div>"
      ],
      "text/plain": [
       "             FileName         EF         ESV         EDV  FrameHeight  \\\n",
       "0  0X100009310A3BD7FC  78.498406   14.881368   69.210534          112   \n",
       "1  0X1002E8FBACD08477  59.101988   40.383876   98.742884          112   \n",
       "2  0X1005D03EED19C65B  62.363798   14.267784   37.909734          112   \n",
       "3  0X10075961BC11C88E  54.545097   33.143084   72.914210          112   \n",
       "4  0X10094BA0A028EAC3  24.887742  127.581945  169.855024          112   \n",
       "\n",
       "   FrameWidth  FPS  NumberOfFrames  Split  \n",
       "0         112   50             174    VAL  \n",
       "1         112   50             215  TRAIN  \n",
       "2         112   50             104  TRAIN  \n",
       "3         112   55             122  TRAIN  \n",
       "4         112   52             207    VAL  "
      ]
     },
     "execution_count": 6,
     "metadata": {},
     "output_type": "execute_result"
    }
   ],
   "source": [
    "data.head()"
   ]
  },
  {
   "cell_type": "code",
   "execution_count": 7,
   "metadata": {},
   "outputs": [
    {
     "data": {
      "application/vnd.microsoft.datawrangler.viewer.v0+json": {
       "columns": [
        {
         "name": "index",
         "rawType": "object",
         "type": "string"
        },
        {
         "name": "EF",
         "rawType": "float64",
         "type": "float"
        },
        {
         "name": "ESV",
         "rawType": "float64",
         "type": "float"
        },
        {
         "name": "EDV",
         "rawType": "float64",
         "type": "float"
        },
        {
         "name": "FrameHeight",
         "rawType": "float64",
         "type": "float"
        },
        {
         "name": "FrameWidth",
         "rawType": "float64",
         "type": "float"
        },
        {
         "name": "FPS",
         "rawType": "float64",
         "type": "float"
        },
        {
         "name": "NumberOfFrames",
         "rawType": "float64",
         "type": "float"
        }
       ],
       "conversionMethod": "pd.DataFrame",
       "ref": "9a7a92c8-681d-4f72-bf14-910990566d80",
       "rows": [
        [
         "count",
         "10030.0",
         "10030.0",
         "10030.0",
         "10030.0",
         "10030.0",
         "10030.0",
         "10030.0"
        ],
        [
         "mean",
         "55.74824810192034",
         "43.427433302361415",
         "91.32457200766203",
         "112.39242273180459",
         "112.54715852442672",
         "51.0777666999003",
         "176.53399800598206"
        ],
        [
         "std",
         "12.371482640411136",
         "35.82809840631485",
         "45.66355422781415",
         "16.040603779188583",
         "22.36603284154555",
         "6.238706753625333",
         "57.87914481051362"
        ],
        [
         "min",
         "6.907258122",
         "4.350710186",
         "12.61867129",
         "112.0",
         "112.0",
         "18.0",
         "28.0"
        ],
        [
         "25%",
         "51.60138695",
         "23.6863385575",
         "62.166668895",
         "112.0",
         "112.0",
         "50.0",
         "144.0"
        ],
        [
         "50%",
         "59.209108924999995",
         "33.59675011",
         "82.08418952",
         "112.0",
         "112.0",
         "50.0",
         "171.0"
        ],
        [
         "75%",
         "63.9587398125",
         "49.107316045",
         "108.2886861",
         "112.0",
         "112.0",
         "50.0",
         "201.0"
        ],
        [
         "max",
         "96.96723658",
         "612.4898146",
         "695.0360254",
         "768.0",
         "1040.0",
         "138.0",
         "1002.0"
        ]
       ],
       "shape": {
        "columns": 7,
        "rows": 8
       }
      },
      "text/html": [
       "<div>\n",
       "<style scoped>\n",
       "    .dataframe tbody tr th:only-of-type {\n",
       "        vertical-align: middle;\n",
       "    }\n",
       "\n",
       "    .dataframe tbody tr th {\n",
       "        vertical-align: top;\n",
       "    }\n",
       "\n",
       "    .dataframe thead th {\n",
       "        text-align: right;\n",
       "    }\n",
       "</style>\n",
       "<table border=\"1\" class=\"dataframe\">\n",
       "  <thead>\n",
       "    <tr style=\"text-align: right;\">\n",
       "      <th></th>\n",
       "      <th>EF</th>\n",
       "      <th>ESV</th>\n",
       "      <th>EDV</th>\n",
       "      <th>FrameHeight</th>\n",
       "      <th>FrameWidth</th>\n",
       "      <th>FPS</th>\n",
       "      <th>NumberOfFrames</th>\n",
       "    </tr>\n",
       "  </thead>\n",
       "  <tbody>\n",
       "    <tr>\n",
       "      <th>count</th>\n",
       "      <td>10030.000000</td>\n",
       "      <td>10030.000000</td>\n",
       "      <td>10030.000000</td>\n",
       "      <td>10030.000000</td>\n",
       "      <td>10030.000000</td>\n",
       "      <td>10030.000000</td>\n",
       "      <td>10030.000000</td>\n",
       "    </tr>\n",
       "    <tr>\n",
       "      <th>mean</th>\n",
       "      <td>55.748248</td>\n",
       "      <td>43.427433</td>\n",
       "      <td>91.324572</td>\n",
       "      <td>112.392423</td>\n",
       "      <td>112.547159</td>\n",
       "      <td>51.077767</td>\n",
       "      <td>176.533998</td>\n",
       "    </tr>\n",
       "    <tr>\n",
       "      <th>std</th>\n",
       "      <td>12.371483</td>\n",
       "      <td>35.828098</td>\n",
       "      <td>45.663554</td>\n",
       "      <td>16.040604</td>\n",
       "      <td>22.366033</td>\n",
       "      <td>6.238707</td>\n",
       "      <td>57.879145</td>\n",
       "    </tr>\n",
       "    <tr>\n",
       "      <th>min</th>\n",
       "      <td>6.907258</td>\n",
       "      <td>4.350710</td>\n",
       "      <td>12.618671</td>\n",
       "      <td>112.000000</td>\n",
       "      <td>112.000000</td>\n",
       "      <td>18.000000</td>\n",
       "      <td>28.000000</td>\n",
       "    </tr>\n",
       "    <tr>\n",
       "      <th>25%</th>\n",
       "      <td>51.601387</td>\n",
       "      <td>23.686339</td>\n",
       "      <td>62.166669</td>\n",
       "      <td>112.000000</td>\n",
       "      <td>112.000000</td>\n",
       "      <td>50.000000</td>\n",
       "      <td>144.000000</td>\n",
       "    </tr>\n",
       "    <tr>\n",
       "      <th>50%</th>\n",
       "      <td>59.209109</td>\n",
       "      <td>33.596750</td>\n",
       "      <td>82.084190</td>\n",
       "      <td>112.000000</td>\n",
       "      <td>112.000000</td>\n",
       "      <td>50.000000</td>\n",
       "      <td>171.000000</td>\n",
       "    </tr>\n",
       "    <tr>\n",
       "      <th>75%</th>\n",
       "      <td>63.958740</td>\n",
       "      <td>49.107316</td>\n",
       "      <td>108.288686</td>\n",
       "      <td>112.000000</td>\n",
       "      <td>112.000000</td>\n",
       "      <td>50.000000</td>\n",
       "      <td>201.000000</td>\n",
       "    </tr>\n",
       "    <tr>\n",
       "      <th>max</th>\n",
       "      <td>96.967237</td>\n",
       "      <td>612.489815</td>\n",
       "      <td>695.036025</td>\n",
       "      <td>768.000000</td>\n",
       "      <td>1040.000000</td>\n",
       "      <td>138.000000</td>\n",
       "      <td>1002.000000</td>\n",
       "    </tr>\n",
       "  </tbody>\n",
       "</table>\n",
       "</div>"
      ],
      "text/plain": [
       "                 EF           ESV           EDV   FrameHeight    FrameWidth  \\\n",
       "count  10030.000000  10030.000000  10030.000000  10030.000000  10030.000000   \n",
       "mean      55.748248     43.427433     91.324572    112.392423    112.547159   \n",
       "std       12.371483     35.828098     45.663554     16.040604     22.366033   \n",
       "min        6.907258      4.350710     12.618671    112.000000    112.000000   \n",
       "25%       51.601387     23.686339     62.166669    112.000000    112.000000   \n",
       "50%       59.209109     33.596750     82.084190    112.000000    112.000000   \n",
       "75%       63.958740     49.107316    108.288686    112.000000    112.000000   \n",
       "max       96.967237    612.489815    695.036025    768.000000   1040.000000   \n",
       "\n",
       "                FPS  NumberOfFrames  \n",
       "count  10030.000000    10030.000000  \n",
       "mean      51.077767      176.533998  \n",
       "std        6.238707       57.879145  \n",
       "min       18.000000       28.000000  \n",
       "25%       50.000000      144.000000  \n",
       "50%       50.000000      171.000000  \n",
       "75%       50.000000      201.000000  \n",
       "max      138.000000     1002.000000  "
      ]
     },
     "execution_count": 7,
     "metadata": {},
     "output_type": "execute_result"
    }
   ],
   "source": [
    "data.describe()"
   ]
  },
  {
   "cell_type": "code",
   "execution_count": 9,
   "metadata": {},
   "outputs": [
    {
     "data": {
      "application/vnd.microsoft.datawrangler.viewer.v0+json": {
       "columns": [
        {
         "name": "index",
         "rawType": "int64",
         "type": "integer"
        },
        {
         "name": "index",
         "rawType": "object",
         "type": "string"
        },
        {
         "name": "EF",
         "rawType": "float64",
         "type": "float"
        },
        {
         "name": "EDV",
         "rawType": "float64",
         "type": "float"
        },
        {
         "name": "ESV",
         "rawType": "float64",
         "type": "float"
        }
       ],
       "conversionMethod": "pd.DataFrame",
       "ref": "a641a3f3-2ed5-4be5-be30-9d6cefcc7a10",
       "rows": [
        [
         "0",
         "count",
         "10030.0",
         "10030.0",
         "10030.0"
        ],
        [
         "1",
         "mean",
         "55.74824810192034",
         "91.32457200766203",
         "43.427433302361415"
        ],
        [
         "2",
         "std",
         "12.371482640411136",
         "45.66355422781415",
         "35.82809840631485"
        ],
        [
         "3",
         "min",
         "6.907258122",
         "12.61867129",
         "4.350710186"
        ],
        [
         "4",
         "25%",
         "51.60138695",
         "62.166668895",
         "23.6863385575"
        ],
        [
         "5",
         "50%",
         "59.209108924999995",
         "82.08418952",
         "33.59675011"
        ],
        [
         "6",
         "75%",
         "63.9587398125",
         "108.2886861",
         "49.107316045"
        ],
        [
         "7",
         "max",
         "96.96723658",
         "695.0360254",
         "612.4898146"
        ]
       ],
       "shape": {
        "columns": 4,
        "rows": 8
       }
      },
      "text/html": [
       "<div>\n",
       "<style scoped>\n",
       "    .dataframe tbody tr th:only-of-type {\n",
       "        vertical-align: middle;\n",
       "    }\n",
       "\n",
       "    .dataframe tbody tr th {\n",
       "        vertical-align: top;\n",
       "    }\n",
       "\n",
       "    .dataframe thead th {\n",
       "        text-align: right;\n",
       "    }\n",
       "</style>\n",
       "<table border=\"1\" class=\"dataframe\">\n",
       "  <thead>\n",
       "    <tr style=\"text-align: right;\">\n",
       "      <th></th>\n",
       "      <th>index</th>\n",
       "      <th>EF</th>\n",
       "      <th>EDV</th>\n",
       "      <th>ESV</th>\n",
       "    </tr>\n",
       "  </thead>\n",
       "  <tbody>\n",
       "    <tr>\n",
       "      <th>0</th>\n",
       "      <td>count</td>\n",
       "      <td>10030.000000</td>\n",
       "      <td>10030.000000</td>\n",
       "      <td>10030.000000</td>\n",
       "    </tr>\n",
       "    <tr>\n",
       "      <th>1</th>\n",
       "      <td>mean</td>\n",
       "      <td>55.748248</td>\n",
       "      <td>91.324572</td>\n",
       "      <td>43.427433</td>\n",
       "    </tr>\n",
       "    <tr>\n",
       "      <th>2</th>\n",
       "      <td>std</td>\n",
       "      <td>12.371483</td>\n",
       "      <td>45.663554</td>\n",
       "      <td>35.828098</td>\n",
       "    </tr>\n",
       "    <tr>\n",
       "      <th>3</th>\n",
       "      <td>min</td>\n",
       "      <td>6.907258</td>\n",
       "      <td>12.618671</td>\n",
       "      <td>4.350710</td>\n",
       "    </tr>\n",
       "    <tr>\n",
       "      <th>4</th>\n",
       "      <td>25%</td>\n",
       "      <td>51.601387</td>\n",
       "      <td>62.166669</td>\n",
       "      <td>23.686339</td>\n",
       "    </tr>\n",
       "    <tr>\n",
       "      <th>5</th>\n",
       "      <td>50%</td>\n",
       "      <td>59.209109</td>\n",
       "      <td>82.084190</td>\n",
       "      <td>33.596750</td>\n",
       "    </tr>\n",
       "    <tr>\n",
       "      <th>6</th>\n",
       "      <td>75%</td>\n",
       "      <td>63.958740</td>\n",
       "      <td>108.288686</td>\n",
       "      <td>49.107316</td>\n",
       "    </tr>\n",
       "    <tr>\n",
       "      <th>7</th>\n",
       "      <td>max</td>\n",
       "      <td>96.967237</td>\n",
       "      <td>695.036025</td>\n",
       "      <td>612.489815</td>\n",
       "    </tr>\n",
       "  </tbody>\n",
       "</table>\n",
       "</div>"
      ],
      "text/plain": [
       "   index            EF           EDV           ESV\n",
       "0  count  10030.000000  10030.000000  10030.000000\n",
       "1   mean     55.748248     91.324572     43.427433\n",
       "2    std     12.371483     45.663554     35.828098\n",
       "3    min      6.907258     12.618671      4.350710\n",
       "4    25%     51.601387     62.166669     23.686339\n",
       "5    50%     59.209109     82.084190     33.596750\n",
       "6    75%     63.958740    108.288686     49.107316\n",
       "7    max     96.967237    695.036025    612.489815"
      ]
     },
     "execution_count": 9,
     "metadata": {},
     "output_type": "execute_result"
    }
   ],
   "source": [
    "col=['EF','EDV','ESV']\n",
    "stat1=data.loc[:,col]\n",
    "statistics=stat1.describe().reset_index()\n",
    "statistics"
   ]
  },
  {
   "cell_type": "code",
   "execution_count": null,
   "metadata": {},
   "outputs": [],
   "source": []
  }
 ],
 "metadata": {
  "kernelspec": {
   "display_name": "Python 3",
   "language": "python",
   "name": "python3"
  },
  "language_info": {
   "codemirror_mode": {
    "name": "ipython",
    "version": 3
   },
   "file_extension": ".py",
   "mimetype": "text/x-python",
   "name": "python",
   "nbconvert_exporter": "python",
   "pygments_lexer": "ipython3",
   "version": "3.12.3"
  }
 },
 "nbformat": 4,
 "nbformat_minor": 2
}

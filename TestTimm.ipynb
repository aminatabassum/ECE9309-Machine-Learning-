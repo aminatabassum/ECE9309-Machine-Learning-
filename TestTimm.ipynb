{
 "cells": [
  {
   "cell_type": "code",
   "execution_count": 5,
   "metadata": {},
   "outputs": [
    {
     "name": "stdout",
     "output_type": "stream",
     "text": [
      "Using device: cuda\n"
     ]
    }
   ],
   "source": [
    "import timm \n",
    "from timm.models import registry\n",
    "from SegFunctions import *\n",
    "import echonet\n",
    "import torch\n",
    "import torchvision.transforms as transforms\n",
    "from torch.utils.data import DataLoader\n",
    "import albumentations as A\n",
    "from albumentations.pytorch import ToTensorV2\n",
    "timm.list_models()\n",
    "m = 'swin_tiny_patch4_window7_224'\n",
    "registry.is_model(m)\n",
    "# Check if CUDA is available\n",
    "device = torch.device(\"cuda\" if torch.cuda.is_available() else \"cpu\")\n",
    "print(f\"Using device: {device}\")"
   ]
  },
  {
   "cell_type": "code",
   "execution_count": 6,
   "metadata": {},
   "outputs": [],
   "source": [
    "\n",
    "\n",
    "# Define image transformations\n",
    "transform = A.Compose([\n",
    "    A.Resize(224, 224),\n",
    "    A.Normalize(mean=[0.5], std=[0.5]),\n",
    "    ToTensorV2(),\n",
    "])\n",
    "\n",
    "class EchoNetSegmentationDataset(echonet.datasets.Echo):\n",
    "    def __getitem__(self, index):\n",
    "        video, mask, _ = super().__getitem__(index)\n",
    "\n",
    "        # Only return frames that have segmentation masks\n",
    "        if mask.sum() == 0:\n",
    "            return None  # Skip frames without masks\n",
    "\n",
    "        # Convert to 3-channel (for Swin Transformer)\n",
    "        video = video.repeat(3, 1, 1)  # (1, H, W) → (3, H, W)\n",
    "        \n",
    "        # Apply transformations\n",
    "        transformed = transform(image=video.numpy(), mask=mask.numpy())\n",
    "        image, mask = transformed[\"image\"], transformed[\"mask\"]\n",
    "        \n",
    "        return image, mask.float()\n",
    "\n",
    "\n",
    "#file_path\n",
    "file_path = 'dynamic/a4c-video-dir/'\n",
    "# Load dataset\n",
    "train_dataset = EchoNetSegmentationDataset(root=file_path, split=\"train\", target_type=\"LargeFrame\")\n",
    "val_dataset = EchoNetSegmentationDataset(root=file_path, split=\"val\", target_type=\"LargeFrame\")\n",
    "\n",
    "# Remove None values (frames without masks)\n",
    "#train_dataset = [x for x in train_dataset if x is not None]\n",
    "#val_dataset = [x for x in val_dataset if x is not None]\n",
    "\n",
    "train_loader = DataLoader(train_dataset, batch_size=8, shuffle=True, num_workers=4)\n",
    "val_loader = DataLoader(val_dataset, batch_size=8, shuffle=False, num_workers=4)\n",
    "\n"
   ]
  },
  {
   "cell_type": "code",
   "execution_count": 7,
   "metadata": {},
   "outputs": [],
   "source": [
    "import timm\n",
    "import torch.nn as nn\n",
    "\n",
    "class SwinUNet(nn.Module):\n",
    "    def __init__(self):\n",
    "        super().__init__()\n",
    "        self.encoder = timm.create_model(\"swin_tiny_patch4_window7_224\", pretrained=True, features_only=True)\n",
    "        self.decoder = nn.Sequential(\n",
    "            nn.ConvTranspose2d(768, 384, kernel_size=2, stride=2),\n",
    "            nn.ReLU(),\n",
    "            nn.ConvTranspose2d(384, 192, kernel_size=2, stride=2),\n",
    "            nn.ReLU(),\n",
    "            nn.ConvTranspose2d(192, 96, kernel_size=2, stride=2),\n",
    "            nn.ReLU(),\n",
    "            nn.ConvTranspose2d(96, 1, kernel_size=1)  # Single-channel output (segmentation mask)\n",
    "        )\n",
    "\n",
    "    def forward(self, x):\n",
    "        features = self.encoder(x)\n",
    "        x = self.decoder(features[-1])\n",
    "        return torch.sigmoid(x)  # Sigmoid for binary segmentation\n",
    "\n",
    "# Move model to GPU\n",
    "device = torch.device(\"cuda\" if torch.cuda.is_available() else \"cpu\")\n",
    "model = SwinUNet().to(device)\n"
   ]
  },
  {
   "cell_type": "code",
   "execution_count": 8,
   "metadata": {},
   "outputs": [],
   "source": [
    "criterion = nn.BCEWithLogitsLoss()  # Binary segmentation loss\n",
    "optimizer = torch.optim.AdamW(model.parameters(), lr=3e-4, weight_decay=1e-4)\n"
   ]
  },
  {
   "cell_type": "code",
   "execution_count": null,
   "metadata": {},
   "outputs": [
    {
     "name": "stderr",
     "output_type": "stream",
     "text": [
      "C:\\Users\\samsc\\AppData\\Local\\Temp\\ipykernel_22568\\1306521183.py:1: FutureWarning: `torch.cuda.amp.GradScaler(args...)` is deprecated. Please use `torch.amp.GradScaler('cuda', args...)` instead.\n",
      "  scaler = torch.cuda.amp.GradScaler()  # ✅ Mixed precision training\n"
     ]
    }
   ],
   "source": [
    "scaler = torch.cuda.amp.GradScaler()  # ✅ Mixed precision training\n",
    "\n",
    "# ✅ Training Loop with AMP for Faster GPU Training\n",
    "num_epochs = 50\n",
    "for epoch in range(num_epochs):\n",
    "    model.train()\n",
    "    epoch_loss = 0\n",
    "    for images, masks in train_loader:\n",
    "        optimizer.zero_grad()\n",
    "\n",
    "        with torch.cuda.amp.autocast():  # ✅ Enable Mixed Precision\n",
    "            outputs = model(images)\n",
    "            loss = criterion(outputs, masks)\n",
    "\n",
    "        scaler.scale(loss).backward()\n",
    "        scaler.step(optimizer)\n",
    "        scaler.update()\n",
    "\n",
    "        epoch_loss += loss.item()\n",
    "\n",
    "    print(f\"Epoch {epoch+1}/{num_epochs}, Loss: {epoch_loss / len(train_loader)}\")\n",
    "\n",
    "# ✅ Evaluation on GPU\n",
    "model.eval()\n",
    "total_dice = 0\n",
    "\n",
    "with torch.no_grad():\n",
    "    for images, masks in val_loader:\n",
    "        images, masks = images.to(device), masks.to(device)\n",
    "        outputs = model(images)\n",
    "        preds = (outputs > 0.5).float()\n",
    "\n",
    "        intersection = (preds * masks).sum()\n",
    "        union = preds.sum() + masks.sum()\n",
    "        dice = 2.0 * intersection / union\n",
    "        total_dice += dice.item()\n",
    "\n",
    "print(f\"Validation Dice Score: {total_dice / len(val_loader):.4f}\")"
   ]
  }
 ],
 "metadata": {
  "kernelspec": {
   "display_name": "Python 3",
   "language": "python",
   "name": "python3"
  },
  "language_info": {
   "codemirror_mode": {
    "name": "ipython",
    "version": 3
   },
   "file_extension": ".py",
   "mimetype": "text/x-python",
   "name": "python",
   "nbconvert_exporter": "python",
   "pygments_lexer": "ipython3",
   "version": "3.12.6"
  }
 },
 "nbformat": 4,
 "nbformat_minor": 2
}

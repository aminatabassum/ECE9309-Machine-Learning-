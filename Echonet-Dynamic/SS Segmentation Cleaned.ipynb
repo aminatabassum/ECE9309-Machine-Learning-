{
 "cells": [
  {
   "cell_type": "code",
   "execution_count": 1,
   "metadata": {},
   "outputs": [
    {
     "name": "stderr",
     "output_type": "stream",
     "text": [
      "c:\\Users\\samsc\\AppData\\Local\\Programs\\Python\\Python312\\Lib\\site-packages\\timm\\models\\registry.py:4: FutureWarning: Importing from timm.models.registry is deprecated, please import via timm.models\n",
      "  warnings.warn(f\"Importing from {__name__} is deprecated, please import via timm.models\", FutureWarning)\n"
     ]
    },
    {
     "name": "stdout",
     "output_type": "stream",
     "text": [
      "Using device: cuda\n"
     ]
    }
   ],
   "source": [
    "import timm \n",
    "from timm.models import registry\n",
    "#from SegFunctions import *\n",
    "import echonet\n",
    "import torch\n",
    "import torchvision.transforms as transforms\n",
    "from torch.utils.data import DataLoader\n",
    "import albumentations as A\n",
    "from albumentations.pytorch import ToTensorV2\n",
    "import math\n",
    "import os\n",
    "import time\n",
    "import torch.optim as optim\n",
    "import click\n",
    "import matplotlib.pyplot as plt\n",
    "import numpy as np\n",
    "import scipy.signal\n",
    "import skimage.draw\n",
    "import torchvision\n",
    "import tqdm\n",
    "\n",
    "m = 'swin_tiny_patch4_window7_224'\n",
    "# Check if CUDA is available\n",
    "device = torch.device(\"cuda\" if torch.cuda.is_available() else \"cpu\")\n",
    "print(f\"Using device: {device}\")\n"
   ]
  },
  {
   "cell_type": "code",
   "execution_count": 2,
   "metadata": {},
   "outputs": [],
   "source": [
    "def run_segmentation(\n",
    "    data_dir=None,\n",
    "    output=None,\n",
    "\n",
    "    model_name=\"deeplabv3_resnet50\",\n",
    "    model = None,\n",
    "    pretrained=False,\n",
    "    weights=None,\n",
    "\n",
    "    run_test=False,\n",
    "    save_video=False,\n",
    "    num_epochs=50,\n",
    "    lr=1e-5,\n",
    "    weight_decay=1e-5,\n",
    "    lr_step_period=None,\n",
    "    num_train_patients=None,\n",
    "    num_workers=4,\n",
    "    batch_size=20,\n",
    "    device=None,\n",
    "    seed=0,\n",
    "    target_transform = None,\n",
    "):\n",
    "    \"\"\"Trains/tests segmentation model.\n",
    "\n",
    "    Args:\n",
    "        data_dir (str, optional): Directory containing dataset. Defaults to\n",
    "            `echonet.config.DATA_DIR`.\n",
    "        output (str, optional): Directory to place outputs. Defaults to\n",
    "            output/segmentation/<model_name>_<pretrained/random>/.\n",
    "        model_name (str, optional): Name of segmentation model. One of ``deeplabv3_resnet50'',\n",
    "            ``deeplabv3_resnet101'', ``fcn_resnet50'', or ``fcn_resnet101''\n",
    "            (options are torchvision.models.segmentation.<model_name>)\n",
    "            Defaults to ``deeplabv3_resnet50''.\n",
    "        model (str, optional): Name of model from timm library. Defaults to None.\n",
    "        pretrained (bool, optional): Whether to use pretrained weights for model\n",
    "            Defaults to False.\n",
    "        weights (str, optional): Path to checkpoint containing weights to\n",
    "            initialize model. Defaults to None.\n",
    "        run_test (bool, optional): Whether or not to run on test.\n",
    "            Defaults to False.\n",
    "        save_video (bool, optional): Whether to save videos with segmentations.\n",
    "            Defaults to False.\n",
    "        num_epochs (int, optional): Number of epochs during training\n",
    "            Defaults to 50.\n",
    "        lr (float, optional): Learning rate for SGD\n",
    "            Defaults to 1e-5.\n",
    "        weight_decay (float, optional): Weight decay for SGD\n",
    "            Defaults to 0.\n",
    "        lr_step_period (int or None, optional): Period of learning rate decay\n",
    "            (learning rate is decayed by a multiplicative factor of 0.1)\n",
    "            Defaults to math.inf (never decay learning rate).\n",
    "        num_train_patients (int or None, optional): Number of training patients\n",
    "            for ablations. Defaults to all patients.\n",
    "        num_workers (int, optional): Number of subprocesses to use for data\n",
    "            loading. If 0, the data will be loaded in the main process.\n",
    "            Defaults to 4.\n",
    "        device (str or None, optional): Name of device to run on. Options from\n",
    "            https://pytorch.org/docs/stable/tensor_attributes.html#torch.torch.device\n",
    "            Defaults to ``cuda'' if available, and ``cpu'' otherwise.\n",
    "        batch_size (int, optional): Number of samples to load per batch\n",
    "            Defaults to 20.\n",
    "        seed (int, optional): Seed for random number generator. Defaults to 0.\n",
    "    \"\"\"\n",
    "\n",
    "    # Seed RNGs\n",
    "    np.random.seed(seed)\n",
    "    torch.manual_seed(seed)\n",
    "\n",
    "    # Set default output directory\n",
    "    if output is None:\n",
    "        output = os.path.join(\"output\", \"segmentation\", \"{}_{}\".format(model_name, \"pretrained\" if pretrained else \"random\"))\n",
    "    os.makedirs(output, exist_ok=True)\n",
    "\n",
    "    # Set device for computations\n",
    "    if device is None:\n",
    "        device = torch.device(\"cuda\" if torch.cuda.is_available() else \"cpu\")\n",
    "\n",
    "    # Set up model\n",
    "    if model is None:\n",
    "        model = torchvision.models.segmentation.__dict__[model_name](pretrained=pretrained, aux_loss=False)\n",
    "        model.classifier[-1] = torch.nn.Conv2d(model.classifier[-1].in_channels, 1, kernel_size=model.classifier[-1].kernel_size)  # change number of outputs to 1\n",
    "    else:\n",
    "        model = model\n",
    "    \n",
    "    if device.type == \"cuda\":\n",
    "        model = torch.nn.DataParallel(model)\n",
    "    model.to(device)\n",
    "\n",
    "    if weights is not None:\n",
    "        checkpoint = torch.load(weights)\n",
    "        model.load_state_dict(checkpoint['state_dict'])\n",
    "\n",
    "    # Set up optimizer\n",
    "    #optim = torch.optim.SGD(model.parameters(), lr=lr, momentum=0.9, weight_decay=weight_decay)\n",
    "    optimizer = optim.AdamW(model.parameters(), lr=1e-4, weight_decay=1e-5)\n",
    "    if lr_step_period is None:\n",
    "        lr_step_period = math.inf\n",
    "    scheduler = torch.optim.lr_scheduler.StepLR(optimizer, lr_step_period)\n",
    "\n",
    "    # Compute mean and std\n",
    "    mean, std = echonet.utils.get_mean_and_std(echonet.datasets.Echo(root=data_dir, split=\"train\"))\n",
    "    tasks = [\"LargeFrame\", \"SmallFrame\", \"LargeTrace\", \"SmallTrace\"]\n",
    "    kwargs = {\"target_type\": tasks,\n",
    "              \"mean\": mean,\n",
    "              \"std\": std\n",
    "              }\n",
    "\n",
    "    # Set up datasets and dataloaders\n",
    "    dataset = {}\n",
    "    dataset[\"train\"] = echonet.datasets.Echo(root=data_dir, split=\"train\", **kwargs)\n",
    "    if num_train_patients is not None and len(dataset[\"train\"]) > num_train_patients:\n",
    "        # Subsample patients (used for ablation experiment)\n",
    "        indices = np.random.choice(len(dataset[\"train\"]), num_train_patients, replace=False)\n",
    "        dataset[\"train\"] = torch.utils.data.Subset(dataset[\"train\"], indices)\n",
    "    dataset[\"val\"] = echonet.datasets.Echo(root=data_dir, split=\"val\", **kwargs)\n",
    "\n",
    "    # Run training and testing loops\n",
    "    with open(os.path.join(output, \"log.csv\"), \"a\") as f:\n",
    "        epoch_resume = 0\n",
    "        bestLoss = float(\"inf\")\n",
    "        try:\n",
    "            # Attempt to load checkpoint\n",
    "            checkpoint = torch.load(os.path.join(output, \"checkpoint.pt\"))\n",
    "            model.load_state_dict(checkpoint['state_dict'])\n",
    "            optimizer.load_state_dict(checkpoint['opt_dict'])\n",
    "            scheduler.load_state_dict(checkpoint['scheduler_dict'])\n",
    "            epoch_resume = checkpoint[\"epoch\"] + 1\n",
    "            bestLoss = checkpoint[\"best_loss\"]\n",
    "            f.write(\"Resuming from epoch {}\\n\".format(epoch_resume))\n",
    "        except FileNotFoundError:\n",
    "            f.write(\"Starting run from scratch\\n\")\n",
    "\n",
    "        for epoch in range(epoch_resume, num_epochs):\n",
    "            print(\"Epoch #{}\".format(epoch), flush=True)\n",
    "            for phase in ['train', 'val']:\n",
    "                start_time = time.time()\n",
    "                for i in range(torch.cuda.device_count()):\n",
    "                    torch.cuda.reset_peak_memory_stats(i)\n",
    "\n",
    "                ds = dataset[phase]\n",
    "                dataloader = torch.utils.data.DataLoader(\n",
    "                    ds, batch_size=batch_size, num_workers=num_workers, shuffle=True, pin_memory=(device.type == \"cuda\"), drop_last=(phase == \"train\"))\n",
    "\n",
    "                loss, large_inter, large_union, small_inter, small_union = echonet.utils.segmentation.run_epoch(model, dataloader, phase == \"train\", optimizer, device)\n",
    "                overall_dice = 2 * (large_inter.sum() + small_inter.sum()) / (large_union.sum() + large_inter.sum() + small_union.sum() + small_inter.sum())\n",
    "                large_dice = 2 * large_inter.sum() / (large_union.sum() + large_inter.sum())\n",
    "                small_dice = 2 * small_inter.sum() / (small_union.sum() + small_inter.sum())\n",
    "                f.write(\"{},{},{},{},{},{},{},{},{},{},{}\\n\".format(epoch,\n",
    "                                                                    phase,\n",
    "                                                                    loss,\n",
    "                                                                    overall_dice,\n",
    "                                                                    large_dice,\n",
    "                                                                    small_dice,\n",
    "                                                                    time.time() - start_time,\n",
    "                                                                    large_inter.size,\n",
    "                                                                    sum(torch.cuda.max_memory_allocated() for i in range(torch.cuda.device_count())),\n",
    "                                                                    sum(torch.cuda.max_memory_reserved() for i in range(torch.cuda.device_count())),\n",
    "                                                                    batch_size))\n",
    "                f.flush()\n",
    "            scheduler.step()\n",
    "\n",
    "            # Save checkpoint\n",
    "            save = {\n",
    "                'epoch': epoch,\n",
    "                'state_dict': model.state_dict(),\n",
    "                'best_loss': bestLoss,\n",
    "                'loss': loss,\n",
    "                'opt_dict': optimizer.state_dict(),\n",
    "                'scheduler_dict': scheduler.state_dict(),\n",
    "            }\n",
    "            torch.save(save, os.path.join(output, \"checkpoint.pt\"))\n",
    "            if loss < bestLoss:\n",
    "                torch.save(save, os.path.join(output, \"best.pt\"))\n",
    "                bestLoss = loss\n",
    "\n",
    "        # Load best weights\n",
    "        if num_epochs != 0:\n",
    "            checkpoint = torch.load(os.path.join(output, \"best.pt\"))\n",
    "            model.load_state_dict(checkpoint['state_dict'])\n",
    "            f.write(\"Best validation loss {} from epoch {}\\n\".format(checkpoint[\"loss\"], checkpoint[\"epoch\"]))\n",
    "\n",
    "        if run_test:\n",
    "            # Run on validation and test\n",
    "            for split in [\"val\", \"test\"]:\n",
    "                dataset = echonet.datasets.Echo(root=data_dir, split=split, **kwargs)\n",
    "                dataloader = torch.utils.data.DataLoader(dataset,\n",
    "                                                         batch_size=batch_size, num_workers=num_workers, shuffle=False, pin_memory=(device.type == \"cuda\"))\n",
    "                loss, large_inter, large_union, small_inter, small_union = echonet.utils.segmentation.run_epoch(model, dataloader, False, None, device)\n",
    "\n",
    "                overall_dice = 2 * (large_inter + small_inter) / (large_union + large_inter + small_union + small_inter)\n",
    "                large_dice = 2 * large_inter / (large_union + large_inter)\n",
    "                small_dice = 2 * small_inter / (small_union + small_inter)\n",
    "                with open(os.path.join(output, \"{}_dice.csv\".format(split)), \"w\") as g:\n",
    "                    g.write(\"Filename, Overall, Large, Small\\n\")\n",
    "                    for (filename, overall, large, small) in zip(dataset.fnames, overall_dice, large_dice, small_dice):\n",
    "                        g.write(\"{},{},{},{}\\n\".format(filename, overall, large, small))\n",
    "\n",
    "                f.write(\"{} dice (overall): {:.4f} ({:.4f} - {:.4f})\\n\".format(split, *echonet.utils.bootstrap(np.concatenate((large_inter, small_inter)), np.concatenate((large_union, small_union)), echonet.utils.dice_similarity_coefficient)))\n",
    "                f.write(\"{} dice (large):   {:.4f} ({:.4f} - {:.4f})\\n\".format(split, *echonet.utils.bootstrap(large_inter, large_union, echonet.utils.dice_similarity_coefficient)))\n",
    "                f.write(\"{} dice (small):   {:.4f} ({:.4f} - {:.4f})\\n\".format(split, *echonet.utils.bootstrap(small_inter, small_union, echonet.utils.dice_similarity_coefficient)))\n",
    "                f.flush()\n",
    "\n",
    "    # Saving videos with segmentations\n",
    "    dataset = echonet.datasets.Echo(root=data_dir, split=\"test\",\n",
    "                                    target_type=[\"Filename\", \"LargeIndex\", \"SmallIndex\"],  # Need filename for saving, and human-selected frames to annotate\n",
    "                                    mean=mean, std=std,  # Normalization\n",
    "                                    length=None, max_length=None, period=1  # Take all frames\n",
    "                                    )\n",
    "    dataloader = torch.utils.data.DataLoader(dataset, batch_size=10, num_workers=num_workers, shuffle=False, pin_memory=False, collate_fn=echonet.utils.segmentation._video_collate_fn)\n",
    "\n",
    "    # Save videos with segmentation\n",
    "    if save_video and not all(os.path.isfile(os.path.join(output, \"videos\", f)) for f in dataloader.dataset.fnames):\n",
    "        # Only run if missing videos\n",
    "\n",
    "        model.eval()\n",
    "\n",
    "        os.makedirs(os.path.join(output, \"videos\"), exist_ok=True)\n",
    "        os.makedirs(os.path.join(output, \"size\"), exist_ok=True)\n",
    "        echonet.utils.latexify()\n",
    "\n",
    "        with torch.no_grad():\n",
    "            with open(os.path.join(output, \"size.csv\"), \"w\") as g:\n",
    "                g.write(\"Filename,Frame,Size,HumanLarge,HumanSmall,ComputerSmall\\n\")\n",
    "                for (x, (filenames, large_index, small_index), length) in tqdm.tqdm(dataloader):\n",
    "                    # Run segmentation model on blocks of frames one-by-one\n",
    "                    # The whole concatenated video may be too long to run together\n",
    "                    try:\n",
    "                        y = np.concatenate([model(x[i:(i + batch_size), :, :, :].to(device))[\"out\"].detach().cpu().numpy() for i in range(0, x.shape[0], batch_size)])\n",
    "                    except:\n",
    "                        y = np.concatenate([model(x[i:(i + batch_size), :, :, :].to(device)).detach().cpu().numpy() for i in range(0, x.shape[0], batch_size)])\n",
    "\n",
    "                    start = 0\n",
    "                    x = x.numpy()\n",
    "                    for (i, (filename, offset)) in enumerate(zip(filenames, length)):\n",
    "                        # Extract one video and segmentation predictions\n",
    "                        video = x[start:(start + offset), ...]\n",
    "                        logit = y[start:(start + offset), 0, :, :]\n",
    "\n",
    "                        # Un-normalize video\n",
    "                        video *= std.reshape(1, 3, 1, 1)\n",
    "                        video += mean.reshape(1, 3, 1, 1)\n",
    "\n",
    "                        # Get frames, channels, height, and width\n",
    "                        f, c, h, w = video.shape  # pylint: disable=W0612\n",
    "                        assert c == 3\n",
    "\n",
    "                        # Put two copies of the video side by side\n",
    "                        video = np.concatenate((video, video), 3)\n",
    "\n",
    "                        # If a pixel is in the segmentation, saturate blue channel\n",
    "                        # Leave alone otherwise\n",
    "                        video[:, 0, :, w:] = np.maximum(255. * (logit > 0), video[:, 0, :, w:])  # pylint: disable=E1111\n",
    "\n",
    "                        # Add blank canvas under pair of videos\n",
    "                        video = np.concatenate((video, np.zeros_like(video)), 2)\n",
    "\n",
    "                        # Compute size of segmentation per frame\n",
    "                        size = (logit > 0).sum((1, 2))\n",
    "\n",
    "                        # Identify systole frames with peak detection\n",
    "                        trim_min = sorted(size)[round(len(size) ** 0.05)]\n",
    "                        trim_max = sorted(size)[round(len(size) ** 0.95)]\n",
    "                        trim_range = trim_max - trim_min\n",
    "                        systole = set(scipy.signal.find_peaks(-size, distance=20, prominence=(0.50 * trim_range))[0])\n",
    "\n",
    "                        # Write sizes and frames to file\n",
    "                        for (frame, s) in enumerate(size):\n",
    "                            g.write(\"{},{},{},{},{},{}\\n\".format(filename, frame, s, 1 if frame == large_index[i] else 0, 1 if frame == small_index[i] else 0, 1 if frame in systole else 0))\n",
    "\n",
    "                        # Plot sizes\n",
    "                        fig = plt.figure(figsize=(size.shape[0] / 50 * 1.5, 3))\n",
    "                        plt.scatter(np.arange(size.shape[0]) / 50, size, s=1)\n",
    "                        ylim = plt.ylim()\n",
    "                        for s in systole:\n",
    "                            plt.plot(np.array([s, s]) / 50, ylim, linewidth=1)\n",
    "                        plt.ylim(ylim)\n",
    "                        plt.title(os.path.splitext(filename)[0])\n",
    "                        plt.xlabel(\"Seconds\")\n",
    "                        plt.ylabel(\"Size (pixels)\")\n",
    "                        plt.tight_layout()\n",
    "                        plt.savefig(os.path.join(output, \"size\", os.path.splitext(filename)[0] + \".pdf\"))\n",
    "                        plt.close(fig)\n",
    "\n",
    "                        # Normalize size to [0, 1]\n",
    "                        size -= size.min()\n",
    "                        size = size / size.max()\n",
    "                        size = 1 - size\n",
    "\n",
    "                        # Iterate the frames in this video\n",
    "                        for (f, s) in enumerate(size):\n",
    "\n",
    "                            # On all frames, mark a pixel for the size of the frame\n",
    "                            video[:, :, int(round(115 + 100 * s)), int(round(f / len(size) * 200 + 10))] = 255.\n",
    "\n",
    "                            if f in systole:\n",
    "                                # If frame is computer-selected systole, mark with a line\n",
    "                                video[:, :, 115:224, int(round(f / len(size) * 200 + 10))] = 255.\n",
    "\n",
    "                            def dash(start, stop, on=10, off=10):\n",
    "                                buf = []\n",
    "                                x = start\n",
    "                                while x < stop:\n",
    "                                    buf.extend(range(x, x + on))\n",
    "                                    x += on\n",
    "                                    x += off\n",
    "                                buf = np.array(buf)\n",
    "                                buf = buf[buf < stop]\n",
    "                                return buf\n",
    "                            d = dash(115, 224)\n",
    "\n",
    "                            if f == large_index[i]:\n",
    "                                # If frame is human-selected diastole, mark with green dashed line on all frames\n",
    "                                video[:, :, d, int(round(f / len(size) * 200 + 10))] = np.array([0, 225, 0]).reshape((1, 3, 1))\n",
    "                            if f == small_index[i]:\n",
    "                                # If frame is human-selected systole, mark with red dashed line on all frames\n",
    "                                video[:, :, d, int(round(f / len(size) * 200 + 10))] = np.array([0, 0, 225]).reshape((1, 3, 1))\n",
    "\n",
    "                            # Get pixels for a circle centered on the pixel\n",
    "                            r, c = skimage.draw.disk((int(round(115 + 100 * s)), int(round(f / len(size) * 200 + 10))), 4.1)\n",
    "\n",
    "                            # On the frame that's being shown, put a circle over the pixel\n",
    "                            video[f, :, r, c] = 255.\n",
    "\n",
    "                        # Rearrange dimensions and save\n",
    "                        video = video.transpose(1, 0, 2, 3)\n",
    "                        video = video.astype(np.uint8)\n",
    "                        echonet.utils.savevideo(os.path.join(output, \"videos\", filename), video, 50)\n",
    "\n",
    "                        # Move to next video\n",
    "                        start += offset\n",
    "                        \n"
   ]
  },
  {
   "cell_type": "code",
   "execution_count": 9,
   "metadata": {},
   "outputs": [],
   "source": [
    "def _video_collate_fn(x):\n",
    "    \"\"\"Collate function for Pytorch dataloader to merge multiple videos.\n",
    "\n",
    "    This function should be used in a dataloader for a dataset that returns\n",
    "    a video as the first element, along with some (non-zero) tuple of\n",
    "    targets. Then, the input x is a list of tuples:\n",
    "      - x[i][0] is the i-th video in the batch\n",
    "      - x[i][1] are the targets for the i-th video\n",
    "\n",
    "    This function returns a 3-tuple:\n",
    "      - The first element is the videos concatenated along the frames\n",
    "        dimension. This is done so that videos of different lengths can be\n",
    "        processed together (tensors cannot be \"jagged\", so we cannot have\n",
    "        a dimension for video, and another for frames).\n",
    "      - The second element is contains the targets with no modification.\n",
    "      - The third element is a list of the lengths of the videos in frames.\n",
    "    \"\"\"\n",
    "    video, target = zip(*x)  # Extract the videos and targets\n",
    "\n",
    "    # ``video'' is a tuple of length ``batch_size''\n",
    "    #   Each element has shape (channels=3, frames, height, width)\n",
    "    #   height and width are expected to be the same across videos, but\n",
    "    #   frames can be different.\n",
    "\n",
    "    # ``target'' is also a tuple of length ``batch_size''\n",
    "    # Each element is a tuple of the targets for the item.\n",
    "\n",
    "    i = list(map(lambda t: t.shape[1], video))  # Extract lengths of videos in frames\n",
    "\n",
    "    # This contatenates the videos along the the frames dimension (basically\n",
    "    # playing the videos one after another). The frames dimension is then\n",
    "    # moved to be first.\n",
    "    # Resulting shape is (total frames, channels=3, height, width)\n",
    "    video = torch.as_tensor(np.swapaxes(np.concatenate(video, 1), 0, 1))\n",
    "\n",
    "    # Swap dimensions (approximately a transpose)\n",
    "    # Before: target[i][j] is the j-th target of element i\n",
    "    # After:  target[i][j] is the i-th target of element j\n",
    "    target = zip(*target)\n",
    "\n",
    "    return video, target, i\n"
   ]
  },
  {
   "cell_type": "code",
   "execution_count": 6,
   "metadata": {},
   "outputs": [
    {
     "data": {
      "text/plain": [
       "'\\nmodel = timm.create_model(\"swin_tiny_patch4_window7_224\", pretrained=True, features_only=True, img_size=112)\\n#model.patch_embed.proj = nn.Conv2d(3, model.patch_embed.proj.out_channels, kernel_size=2, stride=2)\\nmodel = model.to(\"cuda\")\\n\\ndummy_input = torch.randn(1, 3, 112, 112).to(\"cuda\")\\nfeatures = model(dummy_input)\\n\\nfor i, feat in enumerate(features):\\n    print(f\"Stage {i+1} output shape: {feat.shape}\")\\n'"
      ]
     },
     "execution_count": 6,
     "metadata": {},
     "output_type": "execute_result"
    }
   ],
   "source": [
    "'''\n",
    "model = timm.create_model(\"swin_tiny_patch4_window7_224\", pretrained=True, features_only=True, img_size=112)\n",
    "#model.patch_embed.proj = nn.Conv2d(3, model.patch_embed.proj.out_channels, kernel_size=2, stride=2)\n",
    "model = model.to(\"cuda\")\n",
    "\n",
    "dummy_input = torch.randn(1, 3, 112, 112).to(\"cuda\")\n",
    "features = model(dummy_input)\n",
    "\n",
    "for i, feat in enumerate(features):\n",
    "    print(f\"Stage {i+1} output shape: {feat.shape}\")\n",
    "'''"
   ]
  },
  {
   "cell_type": "markdown",
   "metadata": {},
   "source": []
  },
  {
   "cell_type": "code",
   "execution_count": null,
   "metadata": {},
   "outputs": [],
   "source": [
    "import segmentation_models_pytorch as smp\n",
    "\n",
    "modelSwinUnet = smp.Unet(\n",
    "    encoder_name=\"tu-swin_tiny_patch4_window7_224\",        # choose encoder, e.g. mobilenet_v2 or efficientnet-b7\n",
    "    #encoder_weights=\"imagenet\",     # use `imagenet` pre-trained weights for encoder initialization\n",
    "    in_channels=3,                  # model input channels (1 for grayscale images, 3 for RGB, etc.)\n",
    "    classes=1,                      # model output channels (number of classes in your dataset)\n",
    "    img_size = 128\n",
    ")\n",
    "\n",
    "# ✅ Check model output\n",
    "dummy_input = torch.randn(1, 3, 128, 128).to(device)\n",
    "\n",
    "modelSwinUnet = modelSwinUnet.to(device)\n",
    "output = modelSwinUnet(dummy_input)\n",
    "\n",
    "print(\"Output shape:\", output.shape)  # Should match the adjusted feature map size\n",
    "\n",
    "modelConvNet = smp.Unet(\n",
    "    encoder_name=\"tu-convnextv2_tiny\",\n",
    "    #encoder_weights=\"imagenet\",\n",
    "    in_channels=3,\n",
    "    classes=1,\n",
    "    #encoder_depth=3,\n",
    "    #decoder_channels=(64, 32, 16)\n",
    ")\n",
    "\n",
    "# ✅ Check model output\n",
    "modelConvNet = modelConvNet.to(device)\n",
    "output = modelConvNet(dummy_input)\n",
    "print(\"Output shape:\", output.shape)  # Should match the adjusted feature map size\n",
    "\n",
    "modelSwin2 = smp.Unet(\n",
    "    encoder_name=\"tu-swinv2_tiny_window8_256\",        # choose encoder, e.g. mobilenet_v2 or efficientnet-b7\n",
    "    #encoder_weights=\"imagenet\",     # use `imagenet` pre-trained weights for encoder initialization\n",
    "    in_channels=3,                  # model input channels (1 for grayscale images, 3 for RGB, etc.)\n",
    "    classes=1,                      # model output channels (number of classes in your dataset)\n",
    "    img_size = 128\n",
    ")\n",
    "\n",
    "# ✅ Check model output\n",
    "modelSwin2 = modelSwin2.to(device)\n",
    "output = modelSwin2(dummy_input)\n",
    "print(\"Output shape:\", output.shape)  # Should match the adjusted feature map size\n",
    "\n",
    "modelDeepLabResNet = torchvision.models.segmentation.__dict__[\"deeplabv3_resnet50\"](pretrained=False, aux_loss=False)\n",
    "\n"
   ]
  },
  {
   "cell_type": "code",
   "execution_count": 4,
   "metadata": {},
   "outputs": [],
   "source": [
    "#file_path\n",
    "file_path = 'a4c-video-dir/'\n",
    "N_EPOCHS = 20\n"
   ]
  },
  {
   "cell_type": "code",
   "execution_count": null,
   "metadata": {},
   "outputs": [],
   "source": [
    "\n",
    "model_name = 'swin_tiny_patch4_window7_224'\n",
    "#model = SwinDeepLabV3Plus().to(device)\n",
    "run_segmentation(data_dir=file_path, model=modelSwinUnet, num_epochs=N_EPOCHS, model_name=model_name, output='output_swinUnet1', run_test=True, save_video=True)\n",
    "#run_segmentation(data_dir=file_path, num_epochs=N_EPOCHS, output='output2', run_test=True, save_video=True, weights=None)\n"
   ]
  },
  {
   "cell_type": "code",
   "execution_count": 10,
   "metadata": {},
   "outputs": [
    {
     "name": "stderr",
     "output_type": "stream",
     "text": [
      "100%|██████████| 16/16 [00:23<00:00,  1.48s/it]\n"
     ]
    },
    {
     "name": "stdout",
     "output_type": "stream",
     "text": [
      "Epoch #0\n"
     ]
    },
    {
     "name": "stderr",
     "output_type": "stream",
     "text": [
      "C:\\Users\\samsc\\AppData\\Local\\Temp\\ipykernel_65404\\1253971728.py:123: FutureWarning: You are using `torch.load` with `weights_only=False` (the current default value), which uses the default pickle module implicitly. It is possible to construct malicious pickle data which will execute arbitrary code during unpickling (See https://github.com/pytorch/pytorch/blob/main/SECURITY.md#untrusted-models for more details). In a future release, the default value for `weights_only` will be flipped to `True`. This limits the functions that could be executed during unpickling. Arbitrary objects will no longer be allowed to be loaded via this mode unless they are explicitly allowlisted by the user via `torch.serialization.add_safe_globals`. We recommend you start setting `weights_only=True` for any use case where you don't have full control of the loaded file. Please open an issue on GitHub for any issues related to this experimental feature.\n",
      "  checkpoint = torch.load(os.path.join(output, \"checkpoint.pt\"))\n",
      "100%|██████████| 373/373 [03:29<00:00,  1.78it/s, 0.4144 (0.2407) / 0.3004 0.1276, 0.6679, 0.7700]\n",
      "100%|██████████| 65/65 [00:47<00:00,  1.38it/s, 0.2317 (0.2314) / 0.3016 0.1318, 0.9055, 0.9260]\n"
     ]
    },
    {
     "name": "stdout",
     "output_type": "stream",
     "text": [
      "Epoch #1\n"
     ]
    },
    {
     "name": "stderr",
     "output_type": "stream",
     "text": [
      "100%|██████████| 373/373 [03:31<00:00,  1.77it/s, 0.1615 (0.1231) / 0.3004 0.1276, 0.9081, 0.9274]\n",
      "100%|██████████| 65/65 [00:47<00:00,  1.36it/s, 0.1160 (0.1150) / 0.3016 0.1318, 0.9092, 0.9328]\n"
     ]
    },
    {
     "name": "stdout",
     "output_type": "stream",
     "text": [
      "Epoch #2\n"
     ]
    },
    {
     "name": "stderr",
     "output_type": "stream",
     "text": [
      "100%|██████████| 373/373 [03:29<00:00,  1.78it/s, 0.0872 (0.0673) / 0.3004 0.1276, 0.9107, 0.9303]\n",
      "100%|██████████| 65/65 [00:47<00:00,  1.36it/s, 0.0710 (0.0628) / 0.3016 0.1318, 0.9137, 0.9306]\n"
     ]
    },
    {
     "name": "stdout",
     "output_type": "stream",
     "text": [
      "Epoch #3\n"
     ]
    },
    {
     "name": "stderr",
     "output_type": "stream",
     "text": [
      "100%|██████████| 373/373 [03:30<00:00,  1.77it/s, 0.0582 (0.0482) / 0.3004 0.1276, 0.9144, 0.9341]\n",
      "100%|██████████| 65/65 [00:48<00:00,  1.33it/s, 0.0568 (0.0524) / 0.3016 0.1318, 0.9143, 0.9339]\n"
     ]
    },
    {
     "name": "stdout",
     "output_type": "stream",
     "text": [
      "Epoch #4\n"
     ]
    },
    {
     "name": "stderr",
     "output_type": "stream",
     "text": [
      "100%|██████████| 373/373 [03:29<00:00,  1.78it/s, 0.0445 (0.0431) / 0.3004 0.1276, 0.9183, 0.9382]\n",
      "100%|██████████| 65/65 [00:46<00:00,  1.39it/s, 0.0462 (0.0601) / 0.3016 0.1318, 0.9025, 0.9242]\n"
     ]
    },
    {
     "name": "stdout",
     "output_type": "stream",
     "text": [
      "Epoch #5\n"
     ]
    },
    {
     "name": "stderr",
     "output_type": "stream",
     "text": [
      "100%|██████████| 373/373 [03:31<00:00,  1.76it/s, 0.0362 (0.0333) / 0.3004 0.1276, 0.9239, 0.9427]\n",
      "100%|██████████| 65/65 [00:47<00:00,  1.36it/s, 0.0428 (0.0461) / 0.3016 0.1318, 0.9098, 0.9250]\n"
     ]
    },
    {
     "name": "stdout",
     "output_type": "stream",
     "text": [
      "Epoch #6\n"
     ]
    },
    {
     "name": "stderr",
     "output_type": "stream",
     "text": [
      "100%|██████████| 373/373 [03:30<00:00,  1.77it/s, 0.0306 (0.0381) / 0.3004 0.1276, 0.9287, 0.9471]\n",
      "100%|██████████| 65/65 [00:46<00:00,  1.39it/s, 0.0421 (0.0371) / 0.3016 0.1318, 0.9135, 0.9303]\n"
     ]
    },
    {
     "name": "stdout",
     "output_type": "stream",
     "text": [
      "Epoch #7\n"
     ]
    },
    {
     "name": "stderr",
     "output_type": "stream",
     "text": [
      "100%|██████████| 373/373 [03:31<00:00,  1.76it/s, 0.0264 (0.0261) / 0.3004 0.1276, 0.9336, 0.9512]\n",
      "100%|██████████| 65/65 [00:47<00:00,  1.36it/s, 0.0408 (0.0440) / 0.3016 0.1318, 0.9103, 0.9254]\n"
     ]
    },
    {
     "name": "stdout",
     "output_type": "stream",
     "text": [
      "Epoch #8\n"
     ]
    },
    {
     "name": "stderr",
     "output_type": "stream",
     "text": [
      "100%|██████████| 373/373 [03:33<00:00,  1.74it/s, 0.0233 (0.0211) / 0.3004 0.1276, 0.9376, 0.9539]\n",
      "100%|██████████| 65/65 [00:48<00:00,  1.35it/s, 0.0422 (0.0528) / 0.3016 0.1318, 0.9132, 0.9249]\n"
     ]
    },
    {
     "name": "stdout",
     "output_type": "stream",
     "text": [
      "Epoch #9\n"
     ]
    },
    {
     "name": "stderr",
     "output_type": "stream",
     "text": [
      "100%|██████████| 373/373 [03:29<00:00,  1.78it/s, 0.0208 (0.0225) / 0.3004 0.1276, 0.9410, 0.9567]\n",
      "100%|██████████| 65/65 [00:47<00:00,  1.36it/s, 0.0422 (0.0392) / 0.3016 0.1318, 0.9099, 0.9280]\n"
     ]
    },
    {
     "name": "stdout",
     "output_type": "stream",
     "text": [
      "Epoch #10\n"
     ]
    },
    {
     "name": "stderr",
     "output_type": "stream",
     "text": [
      "100%|██████████| 373/373 [03:32<00:00,  1.75it/s, 0.0190 (0.0187) / 0.3004 0.1276, 0.9435, 0.9583]\n",
      "100%|██████████| 65/65 [00:48<00:00,  1.33it/s, 0.0430 (0.0637) / 0.3016 0.1318, 0.9101, 0.9264]\n"
     ]
    },
    {
     "name": "stdout",
     "output_type": "stream",
     "text": [
      "Epoch #11\n"
     ]
    },
    {
     "name": "stderr",
     "output_type": "stream",
     "text": [
      "100%|██████████| 373/373 [03:30<00:00,  1.78it/s, 0.0175 (0.0174) / 0.3004 0.1276, 0.9455, 0.9600]\n",
      "100%|██████████| 65/65 [00:46<00:00,  1.39it/s, 0.0451 (0.0492) / 0.3016 0.1318, 0.9026, 0.9208]\n"
     ]
    },
    {
     "name": "stdout",
     "output_type": "stream",
     "text": [
      "Epoch #12\n"
     ]
    },
    {
     "name": "stderr",
     "output_type": "stream",
     "text": [
      "100%|██████████| 373/373 [03:30<00:00,  1.77it/s, 0.0164 (0.0151) / 0.3004 0.1276, 0.9469, 0.9609]\n",
      "100%|██████████| 65/65 [00:47<00:00,  1.37it/s, 0.0452 (0.0625) / 0.3016 0.1318, 0.9084, 0.9286]\n"
     ]
    },
    {
     "name": "stdout",
     "output_type": "stream",
     "text": [
      "Epoch #13\n"
     ]
    },
    {
     "name": "stderr",
     "output_type": "stream",
     "text": [
      "100%|██████████| 373/373 [03:29<00:00,  1.78it/s, 0.0154 (0.0248) / 0.3004 0.1276, 0.9484, 0.9618]\n",
      "100%|██████████| 65/65 [00:47<00:00,  1.38it/s, 0.0466 (0.0423) / 0.3016 0.1318, 0.9099, 0.9286]\n"
     ]
    },
    {
     "name": "stdout",
     "output_type": "stream",
     "text": [
      "Epoch #14\n"
     ]
    },
    {
     "name": "stderr",
     "output_type": "stream",
     "text": [
      "100%|██████████| 373/373 [03:31<00:00,  1.76it/s, 0.0148 (0.0145) / 0.3004 0.1276, 0.9492, 0.9625]\n",
      "100%|██████████| 65/65 [00:47<00:00,  1.37it/s, 0.0480 (0.0546) / 0.3016 0.1318, 0.9107, 0.9285]\n"
     ]
    },
    {
     "name": "stdout",
     "output_type": "stream",
     "text": [
      "Epoch #15\n"
     ]
    },
    {
     "name": "stderr",
     "output_type": "stream",
     "text": [
      "100%|██████████| 373/373 [03:29<00:00,  1.78it/s, 0.0143 (0.0132) / 0.3004 0.1276, 0.9498, 0.9630]\n",
      "100%|██████████| 65/65 [00:48<00:00,  1.35it/s, 0.0483 (0.0299) / 0.3016 0.1318, 0.9104, 0.9254]\n"
     ]
    },
    {
     "name": "stdout",
     "output_type": "stream",
     "text": [
      "Epoch #16\n"
     ]
    },
    {
     "name": "stderr",
     "output_type": "stream",
     "text": [
      "100%|██████████| 373/373 [03:29<00:00,  1.78it/s, 0.0138 (0.0145) / 0.3004 0.1276, 0.9505, 0.9633]\n",
      "100%|██████████| 65/65 [00:47<00:00,  1.38it/s, 0.0489 (0.0598) / 0.3016 0.1318, 0.9114, 0.9289]\n"
     ]
    },
    {
     "name": "stdout",
     "output_type": "stream",
     "text": [
      "Epoch #17\n"
     ]
    },
    {
     "name": "stderr",
     "output_type": "stream",
     "text": [
      "100%|██████████| 373/373 [03:31<00:00,  1.76it/s, 0.0135 (0.0133) / 0.3004 0.1276, 0.9509, 0.9636]\n",
      "100%|██████████| 65/65 [00:48<00:00,  1.33it/s, 0.0504 (0.0461) / 0.3016 0.1318, 0.9102, 0.9259]\n"
     ]
    },
    {
     "name": "stdout",
     "output_type": "stream",
     "text": [
      "Epoch #18\n"
     ]
    },
    {
     "name": "stderr",
     "output_type": "stream",
     "text": [
      "100%|██████████| 373/373 [03:30<00:00,  1.77it/s, 0.0132 (0.0135) / 0.3004 0.1276, 0.9513, 0.9639]\n",
      "100%|██████████| 65/65 [00:47<00:00,  1.37it/s, 0.0498 (0.0354) / 0.3016 0.1318, 0.9096, 0.9257]\n"
     ]
    },
    {
     "name": "stdout",
     "output_type": "stream",
     "text": [
      "Epoch #19\n"
     ]
    },
    {
     "name": "stderr",
     "output_type": "stream",
     "text": [
      "100%|██████████| 373/373 [03:30<00:00,  1.78it/s, 0.0129 (0.0114) / 0.3004 0.1276, 0.9517, 0.9641]\n",
      "100%|██████████| 65/65 [00:47<00:00,  1.36it/s, 0.0516 (0.0536) / 0.3016 0.1318, 0.9108, 0.9273]\n",
      "C:\\Users\\samsc\\AppData\\Local\\Temp\\ipykernel_65404\\1253971728.py:178: FutureWarning: You are using `torch.load` with `weights_only=False` (the current default value), which uses the default pickle module implicitly. It is possible to construct malicious pickle data which will execute arbitrary code during unpickling (See https://github.com/pytorch/pytorch/blob/main/SECURITY.md#untrusted-models for more details). In a future release, the default value for `weights_only` will be flipped to `True`. This limits the functions that could be executed during unpickling. Arbitrary objects will no longer be allowed to be loaded via this mode unless they are explicitly allowlisted by the user via `torch.serialization.add_safe_globals`. We recommend you start setting `weights_only=True` for any use case where you don't have full control of the loaded file. Please open an issue on GitHub for any issues related to this experimental feature.\n",
      "  checkpoint = torch.load(os.path.join(output, \"best.pt\"))\n"
     ]
    }
   ],
   "source": [
    "N_EPOCHS = 20\n",
    "model_name = 'convnextv2_tiny'\n",
    "#model = SwinDeepLabV3Plus().to(device)\n",
    "run_segmentation(data_dir=file_path, model=modelConvNet, num_epochs=N_EPOCHS, model_name=model_name, output='output_ConvNextUnet', run_test=False, save_video=False)"
   ]
  },
  {
   "cell_type": "code",
   "execution_count": null,
   "metadata": {},
   "outputs": [],
   "source": []
  },
  {
   "cell_type": "code",
   "execution_count": null,
   "metadata": {},
   "outputs": [
    {
     "name": "stderr",
     "output_type": "stream",
     "text": [
      "100%|██████████| 16/16 [00:23<00:00,  1.46s/it]\n"
     ]
    },
    {
     "name": "stdout",
     "output_type": "stream",
     "text": [
      "Epoch #0\n"
     ]
    },
    {
     "name": "stderr",
     "output_type": "stream",
     "text": [
      "C:\\Users\\samsc\\AppData\\Local\\Temp\\ipykernel_65404\\1253971728.py:123: FutureWarning: You are using `torch.load` with `weights_only=False` (the current default value), which uses the default pickle module implicitly. It is possible to construct malicious pickle data which will execute arbitrary code during unpickling (See https://github.com/pytorch/pytorch/blob/main/SECURITY.md#untrusted-models for more details). In a future release, the default value for `weights_only` will be flipped to `True`. This limits the functions that could be executed during unpickling. Arbitrary objects will no longer be allowed to be loaded via this mode unless they are explicitly allowlisted by the user via `torch.serialization.add_safe_globals`. We recommend you start setting `weights_only=True` for any use case where you don't have full control of the loaded file. Please open an issue on GitHub for any issues related to this experimental feature.\n",
      "  checkpoint = torch.load(os.path.join(output, \"checkpoint.pt\"))\n",
      "100%|██████████| 373/373 [03:05<00:00,  2.01it/s, 0.2845 (0.1439) / 0.3004 0.1276, 0.7307, 0.8096]\n",
      "100%|██████████| 65/65 [00:46<00:00,  1.39it/s, 0.1325 (0.1323) / 0.3016 0.1318, 0.9019, 0.9227]\n"
     ]
    },
    {
     "name": "stdout",
     "output_type": "stream",
     "text": [
      "Epoch #1\n"
     ]
    },
    {
     "name": "stderr",
     "output_type": "stream",
     "text": [
      "100%|██████████| 373/373 [03:10<00:00,  1.96it/s, 0.0937 (0.0783) / 0.3004 0.1276, 0.9034, 0.9245]\n",
      "100%|██████████| 65/65 [00:47<00:00,  1.36it/s, 0.0704 (0.0648) / 0.3016 0.1318, 0.9108, 0.9332]\n"
     ]
    },
    {
     "name": "stdout",
     "output_type": "stream",
     "text": [
      "Epoch #2\n"
     ]
    },
    {
     "name": "stderr",
     "output_type": "stream",
     "text": [
      "100%|██████████| 373/373 [03:08<00:00,  1.98it/s, 0.0582 (0.0499) / 0.3004 0.1276, 0.9076, 0.9296]\n",
      "100%|██████████| 65/65 [00:48<00:00,  1.34it/s, 0.0518 (0.0429) / 0.3016 0.1318, 0.9120, 0.9313]\n"
     ]
    },
    {
     "name": "stdout",
     "output_type": "stream",
     "text": [
      "Epoch #3\n"
     ]
    },
    {
     "name": "stderr",
     "output_type": "stream",
     "text": [
      "100%|██████████| 373/373 [03:05<00:00,  2.01it/s, 0.0448 (0.0403) / 0.3004 0.1276, 0.9114, 0.9331]\n",
      "100%|██████████| 65/65 [00:47<00:00,  1.37it/s, 0.0465 (0.0434) / 0.3016 0.1318, 0.9086, 0.9321]\n"
     ]
    },
    {
     "name": "stdout",
     "output_type": "stream",
     "text": [
      "Epoch #4\n"
     ]
    },
    {
     "name": "stderr",
     "output_type": "stream",
     "text": [
      "100%|██████████| 373/373 [03:06<00:00,  1.99it/s, 0.0375 (0.0379) / 0.3004 0.1276, 0.9158, 0.9370]\n",
      "100%|██████████| 65/65 [00:46<00:00,  1.39it/s, 0.0410 (0.0546) / 0.3016 0.1318, 0.9004, 0.9196]\n"
     ]
    },
    {
     "name": "stdout",
     "output_type": "stream",
     "text": [
      "Epoch #5\n"
     ]
    },
    {
     "name": "stderr",
     "output_type": "stream",
     "text": [
      "100%|██████████| 373/373 [03:10<00:00,  1.96it/s, 0.0326 (0.0307) / 0.3004 0.1276, 0.9203, 0.9406]\n",
      "100%|██████████| 65/65 [00:47<00:00,  1.38it/s, 0.0398 (0.0427) / 0.3016 0.1318, 0.9074, 0.9267]\n"
     ]
    },
    {
     "name": "stdout",
     "output_type": "stream",
     "text": [
      "Epoch #6\n"
     ]
    },
    {
     "name": "stderr",
     "output_type": "stream",
     "text": [
      "100%|██████████| 373/373 [03:06<00:00,  2.00it/s, 0.0292 (0.0388) / 0.3004 0.1276, 0.9241, 0.9436]\n",
      "100%|██████████| 65/65 [00:48<00:00,  1.33it/s, 0.0390 (0.0376) / 0.3016 0.1318, 0.9111, 0.9301]\n"
     ]
    },
    {
     "name": "stdout",
     "output_type": "stream",
     "text": [
      "Epoch #7\n"
     ]
    },
    {
     "name": "stderr",
     "output_type": "stream",
     "text": [
      "100%|██████████| 373/373 [03:08<00:00,  1.97it/s, 0.0261 (0.0280) / 0.3004 0.1276, 0.9289, 0.9476]\n",
      "100%|██████████| 65/65 [00:47<00:00,  1.38it/s, 0.0391 (0.0455) / 0.3016 0.1318, 0.9053, 0.9258]\n"
     ]
    },
    {
     "name": "stdout",
     "output_type": "stream",
     "text": [
      "Epoch #8\n"
     ]
    },
    {
     "name": "stderr",
     "output_type": "stream",
     "text": [
      "100%|██████████| 373/373 [03:07<00:00,  1.99it/s, 0.0240 (0.0232) / 0.3004 0.1276, 0.9321, 0.9499]\n",
      "100%|██████████| 65/65 [00:47<00:00,  1.36it/s, 0.0400 (0.0502) / 0.3016 0.1318, 0.9134, 0.9306]\n"
     ]
    },
    {
     "name": "stdout",
     "output_type": "stream",
     "text": [
      "Epoch #9\n"
     ]
    },
    {
     "name": "stderr",
     "output_type": "stream",
     "text": [
      "100%|██████████| 373/373 [03:05<00:00,  2.01it/s, 0.0224 (0.0247) / 0.3004 0.1276, 0.9346, 0.9518]\n",
      "100%|██████████| 65/65 [00:49<00:00,  1.32it/s, 0.0407 (0.0341) / 0.3016 0.1318, 0.9070, 0.9243]\n"
     ]
    },
    {
     "name": "stdout",
     "output_type": "stream",
     "text": [
      "Epoch #10\n"
     ]
    },
    {
     "name": "stderr",
     "output_type": "stream",
     "text": [
      "100%|██████████| 373/373 [03:04<00:00,  2.02it/s, 0.0210 (0.0214) / 0.3004 0.1276, 0.9366, 0.9538]\n",
      "100%|██████████| 65/65 [00:46<00:00,  1.39it/s, 0.0408 (0.0561) / 0.3016 0.1318, 0.9070, 0.9254]\n"
     ]
    },
    {
     "name": "stdout",
     "output_type": "stream",
     "text": [
      "Epoch #11\n"
     ]
    },
    {
     "name": "stderr",
     "output_type": "stream",
     "text": [
      "100%|██████████| 373/373 [03:09<00:00,  1.97it/s, 0.0195 (0.0202) / 0.3004 0.1276, 0.9394, 0.9557]\n",
      "100%|██████████| 65/65 [00:47<00:00,  1.38it/s, 0.0422 (0.0384) / 0.3016 0.1318, 0.9053, 0.9240]\n"
     ]
    },
    {
     "name": "stdout",
     "output_type": "stream",
     "text": [
      "Epoch #12\n"
     ]
    },
    {
     "name": "stderr",
     "output_type": "stream",
     "text": [
      "100%|██████████| 373/373 [03:04<00:00,  2.03it/s, 0.0186 (0.0184) / 0.3004 0.1276, 0.9407, 0.9566]\n",
      "100%|██████████| 65/65 [00:49<00:00,  1.30it/s, 0.0427 (0.0641) / 0.3016 0.1318, 0.9065, 0.9215]\n"
     ]
    },
    {
     "name": "stdout",
     "output_type": "stream",
     "text": [
      "Epoch #13\n"
     ]
    },
    {
     "name": "stderr",
     "output_type": "stream",
     "text": [
      "100%|██████████| 373/373 [03:24<00:00,  1.83it/s, 0.0179 (0.0284) / 0.3004 0.1276, 0.9422, 0.9575]\n",
      "100%|██████████| 65/65 [00:48<00:00,  1.35it/s, 0.0432 (0.0388) / 0.3016 0.1318, 0.9071, 0.9269]\n"
     ]
    },
    {
     "name": "stdout",
     "output_type": "stream",
     "text": [
      "Epoch #14\n"
     ]
    },
    {
     "name": "stderr",
     "output_type": "stream",
     "text": [
      "100%|██████████| 373/373 [03:05<00:00,  2.01it/s, 0.0172 (0.0163) / 0.3004 0.1276, 0.9434, 0.9586]\n",
      "100%|██████████| 65/65 [00:47<00:00,  1.37it/s, 0.0446 (0.0450) / 0.3016 0.1318, 0.9065, 0.9243]\n"
     ]
    },
    {
     "name": "stdout",
     "output_type": "stream",
     "text": [
      "Epoch #15\n"
     ]
    },
    {
     "name": "stderr",
     "output_type": "stream",
     "text": [
      "100%|██████████| 373/373 [03:08<00:00,  1.98it/s, 0.0166 (0.0156) / 0.3004 0.1276, 0.9445, 0.9591]\n",
      "100%|██████████| 65/65 [00:47<00:00,  1.36it/s, 0.0457 (0.0257) / 0.3016 0.1318, 0.9086, 0.9253]\n"
     ]
    },
    {
     "name": "stdout",
     "output_type": "stream",
     "text": [
      "Epoch #16\n"
     ]
    },
    {
     "name": "stderr",
     "output_type": "stream",
     "text": [
      "100%|██████████| 373/373 [03:06<00:00,  2.00it/s, 0.0161 (0.0165) / 0.3004 0.1276, 0.9453, 0.9596]\n",
      "100%|██████████| 65/65 [00:48<00:00,  1.33it/s, 0.0454 (0.0547) / 0.3016 0.1318, 0.9104, 0.9287]\n"
     ]
    },
    {
     "name": "stdout",
     "output_type": "stream",
     "text": [
      "Epoch #17\n"
     ]
    },
    {
     "name": "stderr",
     "output_type": "stream",
     "text": [
      "100%|██████████| 373/373 [03:05<00:00,  2.01it/s, 0.0157 (0.0159) / 0.3004 0.1276, 0.9458, 0.9603]\n",
      "100%|██████████| 65/65 [00:47<00:00,  1.37it/s, 0.0465 (0.0437) / 0.3016 0.1318, 0.9079, 0.9268]\n"
     ]
    },
    {
     "name": "stdout",
     "output_type": "stream",
     "text": [
      "Epoch #18\n"
     ]
    },
    {
     "name": "stderr",
     "output_type": "stream",
     "text": [
      "100%|██████████| 373/373 [03:08<00:00,  1.98it/s, 0.0153 (0.0159) / 0.3004 0.1276, 0.9467, 0.9606]\n",
      "100%|██████████| 65/65 [00:47<00:00,  1.36it/s, 0.0469 (0.0329) / 0.3016 0.1318, 0.9087, 0.9270]\n"
     ]
    },
    {
     "name": "stdout",
     "output_type": "stream",
     "text": [
      "Epoch #19\n"
     ]
    },
    {
     "name": "stderr",
     "output_type": "stream",
     "text": [
      "100%|██████████| 373/373 [03:05<00:00,  2.02it/s, 0.0149 (0.0136) / 0.3004 0.1276, 0.9471, 0.9613]\n",
      "100%|██████████| 65/65 [00:48<00:00,  1.34it/s, 0.0479 (0.0501) / 0.3016 0.1318, 0.9070, 0.9259]\n",
      "C:\\Users\\samsc\\AppData\\Local\\Temp\\ipykernel_65404\\1253971728.py:178: FutureWarning: You are using `torch.load` with `weights_only=False` (the current default value), which uses the default pickle module implicitly. It is possible to construct malicious pickle data which will execute arbitrary code during unpickling (See https://github.com/pytorch/pytorch/blob/main/SECURITY.md#untrusted-models for more details). In a future release, the default value for `weights_only` will be flipped to `True`. This limits the functions that could be executed during unpickling. Arbitrary objects will no longer be allowed to be loaded via this mode unless they are explicitly allowlisted by the user via `torch.serialization.add_safe_globals`. We recommend you start setting `weights_only=True` for any use case where you don't have full control of the loaded file. Please open an issue on GitHub for any issues related to this experimental feature.\n",
      "  checkpoint = torch.load(os.path.join(output, \"best.pt\"))\n"
     ]
    }
   ],
   "source": [
    "model_name = 'tu-swinv2_tiny_window8_256'\n",
    "#model = SwinDeepLabV3Plus().to(device)\n",
    "run_segmentation(data_dir=file_path, model=modelSwin2, num_epochs=N_EPOCHS, model_name=model_name, output='output_SwinV2Unet', run_test=False, save_video=False)\n"
   ]
  },
  {
   "cell_type": "code",
   "execution_count": 5,
   "metadata": {},
   "outputs": [
    {
     "name": "stderr",
     "output_type": "stream",
     "text": [
      "100%|██████████| 16/16 [00:22<00:00,  1.38s/it]\n"
     ]
    },
    {
     "name": "stdout",
     "output_type": "stream",
     "text": [
      "Epoch #0\n"
     ]
    },
    {
     "name": "stderr",
     "output_type": "stream",
     "text": [
      "C:\\Users\\samsc\\AppData\\Local\\Temp\\ipykernel_100608\\921726061.py:123: FutureWarning: You are using `torch.load` with `weights_only=False` (the current default value), which uses the default pickle module implicitly. It is possible to construct malicious pickle data which will execute arbitrary code during unpickling (See https://github.com/pytorch/pytorch/blob/main/SECURITY.md#untrusted-models for more details). In a future release, the default value for `weights_only` will be flipped to `True`. This limits the functions that could be executed during unpickling. Arbitrary objects will no longer be allowed to be loaded via this mode unless they are explicitly allowlisted by the user via `torch.serialization.add_safe_globals`. We recommend you start setting `weights_only=True` for any use case where you don't have full control of the loaded file. Please open an issue on GitHub for any issues related to this experimental feature.\n",
      "  checkpoint = torch.load(os.path.join(output, \"checkpoint.pt\"))\n",
      "100%|██████████| 373/373 [04:36<00:00,  1.35it/s, 0.1158 (0.0591) / 0.3004 0.1276, 0.8415, 0.8823]\n",
      "100%|██████████| 65/65 [00:48<00:00,  1.33it/s, 0.0579 (0.0559) / 0.3016 0.1318, 0.8921, 0.9149]\n"
     ]
    },
    {
     "name": "stdout",
     "output_type": "stream",
     "text": [
      "Epoch #1\n"
     ]
    },
    {
     "name": "stderr",
     "output_type": "stream",
     "text": [
      "100%|██████████| 373/373 [04:38<00:00,  1.34it/s, 0.0485 (0.0466) / 0.3004 0.1276, 0.8988, 0.9232]\n",
      "100%|██████████| 65/65 [00:49<00:00,  1.31it/s, 0.0442 (0.0379) / 0.3016 0.1318, 0.8971, 0.9187]\n"
     ]
    },
    {
     "name": "stdout",
     "output_type": "stream",
     "text": [
      "Epoch #2\n"
     ]
    },
    {
     "name": "stderr",
     "output_type": "stream",
     "text": [
      "100%|██████████| 373/373 [04:38<00:00,  1.34it/s, 0.0384 (0.0530) / 0.3004 0.1276, 0.9056, 0.9288]\n",
      "100%|██████████| 65/65 [00:50<00:00,  1.30it/s, 0.0392 (0.0394) / 0.3016 0.1318, 0.9100, 0.9254]\n"
     ]
    },
    {
     "name": "stdout",
     "output_type": "stream",
     "text": [
      "Epoch #3\n"
     ]
    },
    {
     "name": "stderr",
     "output_type": "stream",
     "text": [
      "100%|██████████| 373/373 [04:34<00:00,  1.36it/s, 0.0334 (0.0381) / 0.3004 0.1276, 0.9115, 0.9339]\n",
      "100%|██████████| 65/65 [00:50<00:00,  1.29it/s, 0.0375 (0.0421) / 0.3016 0.1318, 0.9066, 0.9229]\n"
     ]
    },
    {
     "name": "stdout",
     "output_type": "stream",
     "text": [
      "Epoch #4\n"
     ]
    },
    {
     "name": "stderr",
     "output_type": "stream",
     "text": [
      "100%|██████████| 373/373 [04:43<00:00,  1.32it/s, 0.0299 (0.0282) / 0.3004 0.1276, 0.9171, 0.9383]\n",
      "100%|██████████| 65/65 [00:51<00:00,  1.26it/s, 0.0367 (0.0413) / 0.3016 0.1318, 0.9062, 0.9230]\n"
     ]
    },
    {
     "name": "stdout",
     "output_type": "stream",
     "text": [
      "Epoch #5\n"
     ]
    },
    {
     "name": "stderr",
     "output_type": "stream",
     "text": [
      "100%|██████████| 373/373 [04:42<00:00,  1.32it/s, 0.0267 (0.0259) / 0.3004 0.1276, 0.9227, 0.9433]\n",
      "100%|██████████| 65/65 [00:51<00:00,  1.26it/s, 0.0388 (0.0391) / 0.3016 0.1318, 0.9080, 0.9304]\n"
     ]
    },
    {
     "name": "stdout",
     "output_type": "stream",
     "text": [
      "Epoch #6\n"
     ]
    },
    {
     "name": "stderr",
     "output_type": "stream",
     "text": [
      "100%|██████████| 373/373 [04:41<00:00,  1.32it/s, 0.0242 (0.0245) / 0.3004 0.1276, 0.9279, 0.9471]\n",
      "100%|██████████| 65/65 [00:49<00:00,  1.31it/s, 0.0389 (0.0376) / 0.3016 0.1318, 0.9037, 0.9224]\n"
     ]
    },
    {
     "name": "stdout",
     "output_type": "stream",
     "text": [
      "Epoch #7\n"
     ]
    },
    {
     "name": "stderr",
     "output_type": "stream",
     "text": [
      "100%|██████████| 373/373 [04:43<00:00,  1.32it/s, 0.0219 (0.0236) / 0.3004 0.1276, 0.9328, 0.9509]\n",
      "100%|██████████| 65/65 [00:49<00:00,  1.31it/s, 0.0383 (0.0321) / 0.3016 0.1318, 0.9055, 0.9209]\n"
     ]
    },
    {
     "name": "stdout",
     "output_type": "stream",
     "text": [
      "Epoch #8\n"
     ]
    },
    {
     "name": "stderr",
     "output_type": "stream",
     "text": [
      "100%|██████████| 373/373 [04:39<00:00,  1.33it/s, 0.0204 (0.0213) / 0.3004 0.1276, 0.9359, 0.9534]\n",
      "100%|██████████| 65/65 [00:49<00:00,  1.30it/s, 0.0415 (0.0401) / 0.3016 0.1318, 0.9049, 0.9223]\n"
     ]
    },
    {
     "name": "stdout",
     "output_type": "stream",
     "text": [
      "Epoch #9\n"
     ]
    },
    {
     "name": "stderr",
     "output_type": "stream",
     "text": [
      "100%|██████████| 373/373 [04:39<00:00,  1.33it/s, 0.0189 (0.0176) / 0.3004 0.1276, 0.9391, 0.9557]\n",
      "100%|██████████| 65/65 [00:50<00:00,  1.28it/s, 0.0405 (0.0265) / 0.3016 0.1318, 0.9075, 0.9252]\n"
     ]
    },
    {
     "name": "stdout",
     "output_type": "stream",
     "text": [
      "Epoch #10\n"
     ]
    },
    {
     "name": "stderr",
     "output_type": "stream",
     "text": [
      "100%|██████████| 373/373 [04:41<00:00,  1.33it/s, 0.0178 (0.0173) / 0.3004 0.1276, 0.9413, 0.9574]\n",
      "100%|██████████| 65/65 [00:50<00:00,  1.28it/s, 0.0422 (0.0983) / 0.3016 0.1318, 0.9049, 0.9207]\n"
     ]
    },
    {
     "name": "stdout",
     "output_type": "stream",
     "text": [
      "Epoch #11\n"
     ]
    },
    {
     "name": "stderr",
     "output_type": "stream",
     "text": [
      "100%|██████████| 373/373 [04:41<00:00,  1.32it/s, 0.0170 (0.0174) / 0.3004 0.1276, 0.9430, 0.9585]\n",
      "100%|██████████| 65/65 [00:51<00:00,  1.26it/s, 0.0426 (0.0395) / 0.3016 0.1318, 0.9090, 0.9260]\n"
     ]
    },
    {
     "name": "stdout",
     "output_type": "stream",
     "text": [
      "Epoch #12\n"
     ]
    },
    {
     "name": "stderr",
     "output_type": "stream",
     "text": [
      "100%|██████████| 373/373 [04:43<00:00,  1.32it/s, 0.0166 (0.0219) / 0.3004 0.1276, 0.9440, 0.9590]\n",
      "100%|██████████| 65/65 [00:50<00:00,  1.30it/s, 0.0442 (0.0340) / 0.3016 0.1318, 0.9054, 0.9217]\n"
     ]
    },
    {
     "name": "stdout",
     "output_type": "stream",
     "text": [
      "Epoch #13\n"
     ]
    },
    {
     "name": "stderr",
     "output_type": "stream",
     "text": [
      "100%|██████████| 373/373 [04:43<00:00,  1.31it/s, 0.0161 (0.0142) / 0.3004 0.1276, 0.9450, 0.9597]\n",
      "100%|██████████| 65/65 [00:50<00:00,  1.29it/s, 0.0446 (0.0314) / 0.3016 0.1318, 0.9091, 0.9282]\n"
     ]
    },
    {
     "name": "stdout",
     "output_type": "stream",
     "text": [
      "Epoch #14\n"
     ]
    },
    {
     "name": "stderr",
     "output_type": "stream",
     "text": [
      "100%|██████████| 373/373 [04:43<00:00,  1.32it/s, 0.0156 (0.0147) / 0.3004 0.1276, 0.9457, 0.9605]\n",
      "100%|██████████| 65/65 [00:51<00:00,  1.27it/s, 0.0448 (0.0379) / 0.3016 0.1318, 0.9091, 0.9281]\n"
     ]
    },
    {
     "name": "stdout",
     "output_type": "stream",
     "text": [
      "Epoch #15\n"
     ]
    },
    {
     "name": "stderr",
     "output_type": "stream",
     "text": [
      "100%|██████████| 373/373 [04:42<00:00,  1.32it/s, 0.0152 (0.0140) / 0.3004 0.1276, 0.9465, 0.9610]\n",
      "100%|██████████| 65/65 [00:51<00:00,  1.26it/s, 0.0458 (0.0405) / 0.3016 0.1318, 0.9033, 0.9217]\n"
     ]
    },
    {
     "name": "stdout",
     "output_type": "stream",
     "text": [
      "Epoch #16\n"
     ]
    },
    {
     "name": "stderr",
     "output_type": "stream",
     "text": [
      "100%|██████████| 373/373 [04:40<00:00,  1.33it/s, 0.0148 (0.0166) / 0.3004 0.1276, 0.9472, 0.9616]\n",
      "100%|██████████| 65/65 [00:49<00:00,  1.31it/s, 0.0461 (0.0665) / 0.3016 0.1318, 0.9119, 0.9289]\n"
     ]
    },
    {
     "name": "stdout",
     "output_type": "stream",
     "text": [
      "Epoch #17\n"
     ]
    },
    {
     "name": "stderr",
     "output_type": "stream",
     "text": [
      "100%|██████████| 373/373 [04:41<00:00,  1.32it/s, 0.0146 (0.0143) / 0.3004 0.1276, 0.9476, 0.9617]\n",
      "100%|██████████| 65/65 [00:51<00:00,  1.27it/s, 0.0472 (0.0337) / 0.3016 0.1318, 0.9061, 0.9230]\n"
     ]
    },
    {
     "name": "stdout",
     "output_type": "stream",
     "text": [
      "Epoch #18\n"
     ]
    },
    {
     "name": "stderr",
     "output_type": "stream",
     "text": [
      "100%|██████████| 373/373 [04:42<00:00,  1.32it/s, 0.0143 (0.0143) / 0.3004 0.1276, 0.9484, 0.9622]\n",
      "100%|██████████| 65/65 [00:50<00:00,  1.29it/s, 0.0467 (0.0410) / 0.3016 0.1318, 0.9108, 0.9311]\n"
     ]
    },
    {
     "name": "stdout",
     "output_type": "stream",
     "text": [
      "Epoch #19\n"
     ]
    },
    {
     "name": "stderr",
     "output_type": "stream",
     "text": [
      "100%|██████████| 373/373 [04:46<00:00,  1.30it/s, 0.0140 (0.0132) / 0.3004 0.1276, 0.9487, 0.9626]\n",
      "100%|██████████| 65/65 [00:54<00:00,  1.19it/s, 0.0481 (0.0597) / 0.3016 0.1318, 0.9113, 0.9289]\n",
      "C:\\Users\\samsc\\AppData\\Local\\Temp\\ipykernel_100608\\921726061.py:178: FutureWarning: You are using `torch.load` with `weights_only=False` (the current default value), which uses the default pickle module implicitly. It is possible to construct malicious pickle data which will execute arbitrary code during unpickling (See https://github.com/pytorch/pytorch/blob/main/SECURITY.md#untrusted-models for more details). In a future release, the default value for `weights_only` will be flipped to `True`. This limits the functions that could be executed during unpickling. Arbitrary objects will no longer be allowed to be loaded via this mode unless they are explicitly allowlisted by the user via `torch.serialization.add_safe_globals`. We recommend you start setting `weights_only=True` for any use case where you don't have full control of the loaded file. Please open an issue on GitHub for any issues related to this experimental feature.\n",
      "  checkpoint = torch.load(os.path.join(output, \"best.pt\"))\n"
     ]
    }
   ],
   "source": [
    "run_segmentation(data_dir=file_path,num_epochs=N_EPOCHS, output='outputOriginalModel', run_test=False, save_video=False)"
   ]
  }
 ],
 "metadata": {
  "kernelspec": {
   "display_name": "Python 3",
   "language": "python",
   "name": "python3"
  },
  "language_info": {
   "codemirror_mode": {
    "name": "ipython",
    "version": 3
   },
   "file_extension": ".py",
   "mimetype": "text/x-python",
   "name": "python",
   "nbconvert_exporter": "python",
   "pygments_lexer": "ipython3",
   "version": "3.12.6"
  }
 },
 "nbformat": 4,
 "nbformat_minor": 2
}

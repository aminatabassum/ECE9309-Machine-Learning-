{
 "cells": [
  {
   "cell_type": "code",
   "execution_count": 2,
   "metadata": {},
   "outputs": [
    {
     "name": "stderr",
     "output_type": "stream",
     "text": [
      "c:\\Users\\atabass4\\Lib\\site-packages\\timm\\models\\registry.py:4: FutureWarning: Importing from timm.models.registry is deprecated, please import via timm.models\n",
      "  warnings.warn(f\"Importing from {__name__} is deprecated, please import via timm.models\", FutureWarning)\n"
     ]
    },
    {
     "name": "stdout",
     "output_type": "stream",
     "text": [
      "Using device: cuda\n"
     ]
    }
   ],
   "source": [
    "import timm \n",
    "from timm.models import registry\n",
    "#from SegFunctions import *\n",
    "import echonet\n",
    "import torch\n",
    "import torchvision.transforms as transforms\n",
    "from torch.utils.data import DataLoader\n",
    "import albumentations as A\n",
    "from albumentations.pytorch import ToTensorV2\n",
    "import math\n",
    "import os\n",
    "import time\n",
    "import torch.optim as optim\n",
    "import click\n",
    "import matplotlib.pyplot as plt\n",
    "import numpy as np\n",
    "import scipy.signal\n",
    "import skimage.draw\n",
    "import torchvision\n",
    "import tqdm\n",
    "\n",
    "m = 'swin_tiny_patch4_window7_224'\n",
    "# Check if CUDA is available\n",
    "device = torch.device(\"cuda\" if torch.cuda.is_available() else \"cpu\")\n",
    "print(f\"Using device: {device}\")\n"
   ]
  },
  {
   "cell_type": "code",
   "execution_count": 3,
   "metadata": {},
   "outputs": [],
   "source": [
    "def run_segmentation(\n",
    "    data_dir=None,\n",
    "    output=None,\n",
    "\n",
    "    model_name=\"deeplabv3_resnet50\",\n",
    "    model = None,\n",
    "    pretrained=False,\n",
    "    weights=None,\n",
    "\n",
    "    run_test=False,\n",
    "    save_video=False,\n",
    "    num_epochs=50,\n",
    "    lr=1e-5,\n",
    "    weight_decay=1e-5,\n",
    "    lr_step_period=None,\n",
    "    num_train_patients=None,\n",
    "    num_workers=4,\n",
    "    batch_size=20,\n",
    "    device=None,\n",
    "    seed=0,\n",
    "    target_transform = None,\n",
    "):\n",
    "    \"\"\"Trains/tests segmentation model.\n",
    "\n",
    "    Args:\n",
    "        data_dir (str, optional): Directory containing dataset. Defaults to\n",
    "            `echonet.config.DATA_DIR`.\n",
    "        output (str, optional): Directory to place outputs. Defaults to\n",
    "            output/segmentation/<model_name>_<pretrained/random>/.\n",
    "        model_name (str, optional): Name of segmentation model. One of ``deeplabv3_resnet50'',\n",
    "            ``deeplabv3_resnet101'', ``fcn_resnet50'', or ``fcn_resnet101''\n",
    "            (options are torchvision.models.segmentation.<model_name>)\n",
    "            Defaults to ``deeplabv3_resnet50''.\n",
    "        model (str, optional): Name of model from timm library. Defaults to None.\n",
    "        pretrained (bool, optional): Whether to use pretrained weights for model\n",
    "            Defaults to False.\n",
    "        weights (str, optional): Path to checkpoint containing weights to\n",
    "            initialize model. Defaults to None.\n",
    "        run_test (bool, optional): Whether or not to run on test.\n",
    "            Defaults to False.\n",
    "        save_video (bool, optional): Whether to save videos with segmentations.\n",
    "            Defaults to False.\n",
    "        num_epochs (int, optional): Number of epochs during training\n",
    "            Defaults to 50.\n",
    "        lr (float, optional): Learning rate for SGD\n",
    "            Defaults to 1e-5.\n",
    "        weight_decay (float, optional): Weight decay for SGD\n",
    "            Defaults to 0.\n",
    "        lr_step_period (int or None, optional): Period of learning rate decay\n",
    "            (learning rate is decayed by a multiplicative factor of 0.1)\n",
    "            Defaults to math.inf (never decay learning rate).\n",
    "        num_train_patients (int or None, optional): Number of training patients\n",
    "            for ablations. Defaults to all patients.\n",
    "        num_workers (int, optional): Number of subprocesses to use for data\n",
    "            loading. If 0, the data will be loaded in the main process.\n",
    "            Defaults to 4.\n",
    "        device (str or None, optional): Name of device to run on. Options from\n",
    "            https://pytorch.org/docs/stable/tensor_attributes.html#torch.torch.device\n",
    "            Defaults to ``cuda'' if available, and ``cpu'' otherwise.\n",
    "        batch_size (int, optional): Number of samples to load per batch\n",
    "            Defaults to 20.\n",
    "        seed (int, optional): Seed for random number generator. Defaults to 0.\n",
    "    \"\"\"\n",
    "\n",
    "    # Seed RNGs\n",
    "    np.random.seed(seed)\n",
    "    torch.manual_seed(seed)\n",
    "\n",
    "    # Set default output directory\n",
    "    if output is None:\n",
    "        output = os.path.join(\"output\", \"segmentation\", \"{}_{}\".format(model_name, \"pretrained\" if pretrained else \"random\"))\n",
    "    os.makedirs(output, exist_ok=True)\n",
    "\n",
    "    # Set device for computations\n",
    "    if device is None:\n",
    "        device = torch.device(\"cuda\" if torch.cuda.is_available() else \"cpu\")\n",
    "\n",
    "    # Set up model\n",
    "    if model is None:\n",
    "        model = torchvision.models.segmentation.__dict__[model_name](pretrained=pretrained, aux_loss=False)\n",
    "        model.classifier[-1] = torch.nn.Conv2d(model.classifier[-1].in_channels, 1, kernel_size=model.classifier[-1].kernel_size)  # change number of outputs to 1\n",
    "    else:\n",
    "        model = model\n",
    "    \n",
    "    if device.type == \"cuda\":\n",
    "        model = torch.nn.DataParallel(model)\n",
    "    model.to(device)\n",
    "\n",
    "    if weights is not None:\n",
    "        checkpoint = torch.load(weights)\n",
    "        model.load_state_dict(checkpoint['state_dict'])\n",
    "\n",
    "    # Set up optimizer\n",
    "    #optim = torch.optim.SGD(model.parameters(), lr=lr, momentum=0.9, weight_decay=weight_decay)\n",
    "    optimizer = optim.AdamW(model.parameters(), lr=1e-4, weight_decay=1e-5)\n",
    "    if lr_step_period is None:\n",
    "        lr_step_period = math.inf\n",
    "    scheduler = torch.optim.lr_scheduler.StepLR(optimizer, lr_step_period)\n",
    "\n",
    "    # Compute mean and std\n",
    "    mean, std = echonet.utils.get_mean_and_std(echonet.datasets.Echo(root=data_dir, split=\"train\"))\n",
    "    tasks = [\"LargeFrame\", \"SmallFrame\", \"LargeTrace\", \"SmallTrace\"]\n",
    "    kwargs = {\"target_type\": tasks,\n",
    "              \"mean\": mean,\n",
    "              \"std\": std\n",
    "              }\n",
    "\n",
    "    # Set up datasets and dataloaders\n",
    "    dataset = {}\n",
    "    dataset[\"train\"] = echonet.datasets.Echo(root=data_dir, split=\"train\", **kwargs)\n",
    "    if num_train_patients is not None and len(dataset[\"train\"]) > num_train_patients:\n",
    "        # Subsample patients (used for ablation experiment)\n",
    "        indices = np.random.choice(len(dataset[\"train\"]), num_train_patients, replace=False)\n",
    "        dataset[\"train\"] = torch.utils.data.Subset(dataset[\"train\"], indices)\n",
    "    dataset[\"val\"] = echonet.datasets.Echo(root=data_dir, split=\"val\", **kwargs)\n",
    "\n",
    "    # Run training and testing loops\n",
    "    with open(os.path.join(output, \"log.csv\"), \"a\") as f:\n",
    "        epoch_resume = 0\n",
    "        bestLoss = float(\"inf\")\n",
    "        try:\n",
    "            # Attempt to load checkpoint\n",
    "            checkpoint = torch.load(os.path.join(output, \"checkpoint.pt\"))\n",
    "            model.load_state_dict(checkpoint['state_dict'])\n",
    "            optimizer.load_state_dict(checkpoint['opt_dict'])\n",
    "            scheduler.load_state_dict(checkpoint['scheduler_dict'])\n",
    "            epoch_resume = checkpoint[\"epoch\"] + 1\n",
    "            bestLoss = checkpoint[\"best_loss\"]\n",
    "            f.write(\"Resuming from epoch {}\\n\".format(epoch_resume))\n",
    "        except FileNotFoundError:\n",
    "            f.write(\"Starting run from scratch\\n\")\n",
    "\n",
    "        for epoch in range(epoch_resume, num_epochs):\n",
    "            print(\"Epoch #{}\".format(epoch), flush=True)\n",
    "            for phase in ['train', 'val']:\n",
    "                start_time = time.time()\n",
    "                for i in range(torch.cuda.device_count()):\n",
    "                    torch.cuda.reset_peak_memory_stats(i)\n",
    "\n",
    "                ds = dataset[phase]\n",
    "                dataloader = torch.utils.data.DataLoader(\n",
    "                    ds, batch_size=batch_size, num_workers=num_workers, shuffle=True, pin_memory=(device.type == \"cuda\"), drop_last=(phase == \"train\"))\n",
    "\n",
    "                loss, large_inter, large_union, small_inter, small_union = echonet.utils.segmentation.run_epoch(model, dataloader, phase == \"train\", optimizer, device)\n",
    "                overall_dice = 2 * (large_inter.sum() + small_inter.sum()) / (large_union.sum() + large_inter.sum() + small_union.sum() + small_inter.sum())\n",
    "                large_dice = 2 * large_inter.sum() / (large_union.sum() + large_inter.sum())\n",
    "                small_dice = 2 * small_inter.sum() / (small_union.sum() + small_inter.sum())\n",
    "                f.write(\"{},{},{},{},{},{},{},{},{},{},{}\\n\".format(epoch,\n",
    "                                                                    phase,\n",
    "                                                                    loss,\n",
    "                                                                    overall_dice,\n",
    "                                                                    large_dice,\n",
    "                                                                    small_dice,\n",
    "                                                                    time.time() - start_time,\n",
    "                                                                    large_inter.size,\n",
    "                                                                    sum(torch.cuda.max_memory_allocated() for i in range(torch.cuda.device_count())),\n",
    "                                                                    sum(torch.cuda.max_memory_reserved() for i in range(torch.cuda.device_count())),\n",
    "                                                                    batch_size))\n",
    "                f.flush()\n",
    "            scheduler.step()\n",
    "\n",
    "            # Save checkpoint\n",
    "            save = {\n",
    "                'epoch': epoch,\n",
    "                'state_dict': model.state_dict(),\n",
    "                'best_loss': bestLoss,\n",
    "                'loss': loss,\n",
    "                'opt_dict': optimizer.state_dict(),\n",
    "                'scheduler_dict': scheduler.state_dict(),\n",
    "            }\n",
    "            torch.save(save, os.path.join(output, \"checkpoint.pt\"))\n",
    "            if loss < bestLoss:\n",
    "                torch.save(save, os.path.join(output, \"best.pt\"))\n",
    "                bestLoss = loss\n",
    "\n",
    "        # Load best weights\n",
    "        if num_epochs != 0:\n",
    "            checkpoint = torch.load(os.path.join(output, \"best.pt\"))\n",
    "            model.load_state_dict(checkpoint['state_dict'])\n",
    "            f.write(\"Best validation loss {} from epoch {}\\n\".format(checkpoint[\"loss\"], checkpoint[\"epoch\"]))\n",
    "\n",
    "        if run_test:\n",
    "            # Run on validation and test\n",
    "            for split in [\"val\", \"test\"]:\n",
    "                dataset = echonet.datasets.Echo(root=data_dir, split=split, **kwargs)\n",
    "                dataloader = torch.utils.data.DataLoader(dataset,\n",
    "                                                         batch_size=batch_size, num_workers=num_workers, shuffle=False, pin_memory=(device.type == \"cuda\"))\n",
    "                loss, large_inter, large_union, small_inter, small_union = echonet.utils.segmentation.run_epoch(model, dataloader, False, None, device)\n",
    "\n",
    "                overall_dice = 2 * (large_inter + small_inter) / (large_union + large_inter + small_union + small_inter)\n",
    "                large_dice = 2 * large_inter / (large_union + large_inter)\n",
    "                small_dice = 2 * small_inter / (small_union + small_inter)\n",
    "                with open(os.path.join(output, \"{}_dice.csv\".format(split)), \"w\") as g:\n",
    "                    g.write(\"Filename, Overall, Large, Small\\n\")\n",
    "                    for (filename, overall, large, small) in zip(dataset.fnames, overall_dice, large_dice, small_dice):\n",
    "                        g.write(\"{},{},{},{}\\n\".format(filename, overall, large, small))\n",
    "\n",
    "                f.write(\"{} dice (overall): {:.4f} ({:.4f} - {:.4f})\\n\".format(split, *echonet.utils.bootstrap(np.concatenate((large_inter, small_inter)), np.concatenate((large_union, small_union)), echonet.utils.dice_similarity_coefficient)))\n",
    "                f.write(\"{} dice (large):   {:.4f} ({:.4f} - {:.4f})\\n\".format(split, *echonet.utils.bootstrap(large_inter, large_union, echonet.utils.dice_similarity_coefficient)))\n",
    "                f.write(\"{} dice (small):   {:.4f} ({:.4f} - {:.4f})\\n\".format(split, *echonet.utils.bootstrap(small_inter, small_union, echonet.utils.dice_similarity_coefficient)))\n",
    "                f.flush()\n",
    "\n",
    "    # Saving videos with segmentations\n",
    "    dataset = echonet.datasets.Echo(root=data_dir, split=\"test\",\n",
    "                                    target_type=[\"Filename\", \"LargeIndex\", \"SmallIndex\"],  # Need filename for saving, and human-selected frames to annotate\n",
    "                                    mean=mean, std=std,  # Normalization\n",
    "                                    length=None, max_length=None, period=1  # Take all frames\n",
    "                                    )\n",
    "    dataloader = torch.utils.data.DataLoader(dataset, batch_size=10, num_workers=num_workers, shuffle=False, pin_memory=False, collate_fn=echonet.utils.segmentation._video_collate_fn)\n",
    "\n",
    "    # Save videos with segmentation\n",
    "    if save_video and not all(os.path.isfile(os.path.join(output, \"videos\", f)) for f in dataloader.dataset.fnames):\n",
    "        # Only run if missing videos\n",
    "\n",
    "        model.eval()\n",
    "\n",
    "        os.makedirs(os.path.join(output, \"videos\"), exist_ok=True)\n",
    "        os.makedirs(os.path.join(output, \"size\"), exist_ok=True)\n",
    "        echonet.utils.latexify()\n",
    "\n",
    "        with torch.no_grad():\n",
    "            with open(os.path.join(output, \"size.csv\"), \"w\") as g:\n",
    "                g.write(\"Filename,Frame,Size,HumanLarge,HumanSmall,ComputerSmall\\n\")\n",
    "                for (x, (filenames, large_index, small_index), length) in tqdm.tqdm(dataloader):\n",
    "                    # Run segmentation model on blocks of frames one-by-one\n",
    "                    # The whole concatenated video may be too long to run together\n",
    "                    try:\n",
    "                        y = np.concatenate([model(x[i:(i + batch_size), :, :, :].to(device))[\"out\"].detach().cpu().numpy() for i in range(0, x.shape[0], batch_size)])\n",
    "                    except:\n",
    "                        y = np.concatenate([model(x[i:(i + batch_size), :, :, :].to(device)).detach().cpu().numpy() for i in range(0, x.shape[0], batch_size)])\n",
    "\n",
    "                    start = 0\n",
    "                    x = x.numpy()\n",
    "                    for (i, (filename, offset)) in enumerate(zip(filenames, length)):\n",
    "                        # Extract one video and segmentation predictions\n",
    "                        video = x[start:(start + offset), ...]\n",
    "                        logit = y[start:(start + offset), 0, :, :]\n",
    "\n",
    "                        # Un-normalize video\n",
    "                        video *= std.reshape(1, 3, 1, 1)\n",
    "                        video += mean.reshape(1, 3, 1, 1)\n",
    "\n",
    "                        # Get frames, channels, height, and width\n",
    "                        f, c, h, w = video.shape  # pylint: disable=W0612\n",
    "                        assert c == 3\n",
    "\n",
    "                        # Put two copies of the video side by side\n",
    "                        video = np.concatenate((video, video), 3)\n",
    "\n",
    "                        # If a pixel is in the segmentation, saturate blue channel\n",
    "                        # Leave alone otherwise\n",
    "                        video[:, 0, :, w:] = np.maximum(255. * (logit > 0), video[:, 0, :, w:])  # pylint: disable=E1111\n",
    "\n",
    "                        # Add blank canvas under pair of videos\n",
    "                        video = np.concatenate((video, np.zeros_like(video)), 2)\n",
    "\n",
    "                        # Compute size of segmentation per frame\n",
    "                        size = (logit > 0).sum((1, 2))\n",
    "\n",
    "                        # Identify systole frames with peak detection\n",
    "                        trim_min = sorted(size)[round(len(size) ** 0.05)]\n",
    "                        trim_max = sorted(size)[round(len(size) ** 0.95)]\n",
    "                        trim_range = trim_max - trim_min\n",
    "                        systole = set(scipy.signal.find_peaks(-size, distance=20, prominence=(0.50 * trim_range))[0])\n",
    "\n",
    "                        # Write sizes and frames to file\n",
    "                        for (frame, s) in enumerate(size):\n",
    "                            g.write(\"{},{},{},{},{},{}\\n\".format(filename, frame, s, 1 if frame == large_index[i] else 0, 1 if frame == small_index[i] else 0, 1 if frame in systole else 0))\n",
    "\n",
    "                        # Plot sizes\n",
    "                        fig = plt.figure(figsize=(size.shape[0] / 50 * 1.5, 3))\n",
    "                        plt.scatter(np.arange(size.shape[0]) / 50, size, s=1)\n",
    "                        ylim = plt.ylim()\n",
    "                        for s in systole:\n",
    "                            plt.plot(np.array([s, s]) / 50, ylim, linewidth=1)\n",
    "                        plt.ylim(ylim)\n",
    "                        plt.title(os.path.splitext(filename)[0])\n",
    "                        plt.xlabel(\"Seconds\")\n",
    "                        plt.ylabel(\"Size (pixels)\")\n",
    "                        plt.tight_layout()\n",
    "                        plt.savefig(os.path.join(output, \"size\", os.path.splitext(filename)[0] + \".pdf\"))\n",
    "                        plt.close(fig)\n",
    "\n",
    "                        # Normalize size to [0, 1]\n",
    "                        size -= size.min()\n",
    "                        size = size / size.max()\n",
    "                        size = 1 - size\n",
    "\n",
    "                        # Iterate the frames in this video\n",
    "                        for (f, s) in enumerate(size):\n",
    "\n",
    "                            # On all frames, mark a pixel for the size of the frame\n",
    "                            video[:, :, int(round(115 + 100 * s)), int(round(f / len(size) * 200 + 10))] = 255.\n",
    "\n",
    "                            if f in systole:\n",
    "                                # If frame is computer-selected systole, mark with a line\n",
    "                                video[:, :, 115:224, int(round(f / len(size) * 200 + 10))] = 255.\n",
    "\n",
    "                            def dash(start, stop, on=10, off=10):\n",
    "                                buf = []\n",
    "                                x = start\n",
    "                                while x < stop:\n",
    "                                    buf.extend(range(x, x + on))\n",
    "                                    x += on\n",
    "                                    x += off\n",
    "                                buf = np.array(buf)\n",
    "                                buf = buf[buf < stop]\n",
    "                                return buf\n",
    "                            d = dash(115, 224)\n",
    "\n",
    "                            if f == large_index[i]:\n",
    "                                # If frame is human-selected diastole, mark with green dashed line on all frames\n",
    "                                video[:, :, d, int(round(f / len(size) * 200 + 10))] = np.array([0, 225, 0]).reshape((1, 3, 1))\n",
    "                            if f == small_index[i]:\n",
    "                                # If frame is human-selected systole, mark with red dashed line on all frames\n",
    "                                video[:, :, d, int(round(f / len(size) * 200 + 10))] = np.array([0, 0, 225]).reshape((1, 3, 1))\n",
    "\n",
    "                            # Get pixels for a circle centered on the pixel\n",
    "                            r, c = skimage.draw.disk((int(round(115 + 100 * s)), int(round(f / len(size) * 200 + 10))), 4.1)\n",
    "\n",
    "                            # On the frame that's being shown, put a circle over the pixel\n",
    "                            video[f, :, r, c] = 255.\n",
    "\n",
    "                        # Rearrange dimensions and save\n",
    "                        video = video.transpose(1, 0, 2, 3)\n",
    "                        video = video.astype(np.uint8)\n",
    "                        echonet.utils.savevideo(os.path.join(output, \"videos\", filename), video, 50)\n",
    "\n",
    "                        # Move to next video\n",
    "                        start += offset\n",
    "                        \n"
   ]
  },
  {
   "cell_type": "code",
   "execution_count": 4,
   "metadata": {},
   "outputs": [],
   "source": [
    "def _video_collate_fn(x):\n",
    "    \"\"\"Collate function for Pytorch dataloader to merge multiple videos.\n",
    "\n",
    "    This function should be used in a dataloader for a dataset that returns\n",
    "    a video as the first element, along with some (non-zero) tuple of\n",
    "    targets. Then, the input x is a list of tuples:\n",
    "      - x[i][0] is the i-th video in the batch\n",
    "      - x[i][1] are the targets for the i-th video\n",
    "\n",
    "    This function returns a 3-tuple:\n",
    "      - The first element is the videos concatenated along the frames\n",
    "        dimension. This is done so that videos of different lengths can be\n",
    "        processed together (tensors cannot be \"jagged\", so we cannot have\n",
    "        a dimension for video, and another for frames).\n",
    "      - The second element is contains the targets with no modification.\n",
    "      - The third element is a list of the lengths of the videos in frames.\n",
    "    \"\"\"\n",
    "    video, target = zip(*x)  # Extract the videos and targets\n",
    "\n",
    "    # ``video'' is a tuple of length ``batch_size''\n",
    "    #   Each element has shape (channels=3, frames, height, width)\n",
    "    #   height and width are expected to be the same across videos, but\n",
    "    #   frames can be different.\n",
    "\n",
    "    # ``target'' is also a tuple of length ``batch_size''\n",
    "    # Each element is a tuple of the targets for the item.\n",
    "\n",
    "    i = list(map(lambda t: t.shape[1], video))  # Extract lengths of videos in frames\n",
    "\n",
    "    # This contatenates the videos along the the frames dimension (basically\n",
    "    # playing the videos one after another). The frames dimension is then\n",
    "    # moved to be first.\n",
    "    # Resulting shape is (total frames, channels=3, height, width)\n",
    "    video = torch.as_tensor(np.swapaxes(np.concatenate(video, 1), 0, 1))\n",
    "\n",
    "    # Swap dimensions (approximately a transpose)\n",
    "    # Before: target[i][j] is the j-th target of element i\n",
    "    # After:  target[i][j] is the i-th target of element j\n",
    "    target = zip(*target)\n",
    "\n",
    "    return video, target, i\n"
   ]
  },
  {
   "cell_type": "code",
   "execution_count": 5,
   "metadata": {},
   "outputs": [],
   "source": [
    "import optuna\n",
    "import segmentation_models_pytorch as smp\n",
    "import torch.nn as nn"
   ]
  },
  {
   "cell_type": "code",
   "execution_count": 8,
   "metadata": {},
   "outputs": [],
   "source": [
    "\n",
    "file_path = 'a4c-video-dir/'"
   ]
  },
  {
   "cell_type": "code",
   "execution_count": null,
   "metadata": {},
   "outputs": [],
   "source": [
    "# model=smp.Unet(encoder_name=encoder_name,encoder_weights=None,\n",
    "#                in_channels=3,classes=1,encoder_depth=encoder_depth).to(device)"
   ]
  },
  {
   "cell_type": "code",
   "execution_count": 17,
   "metadata": {},
   "outputs": [
    {
     "name": "stderr",
     "output_type": "stream",
     "text": [
      "[I 2025-03-22 12:08:44,722] A new study created in memory with name: no-name-64c67c20-d045-42e8-a8d1-ad905916789c\n",
      "C:\\Users\\atabass4\\AppData\\Local\\Temp\\ipykernel_26056\\217092170.py:5: FutureWarning: suggest_loguniform has been deprecated in v3.0.0. This feature will be removed in v6.0.0. See https://github.com/optuna/optuna/releases/tag/v3.0.0. Use suggest_float(..., log=True) instead.\n",
      "  lr=trial.suggest_loguniform('lr',1e-5,1e-3)\n",
      "100%|██████████| 16/16 [00:20<00:00,  1.26s/it]\n"
     ]
    },
    {
     "name": "stdout",
     "output_type": "stream",
     "text": [
      "Epoch #0\n"
     ]
    },
    {
     "name": "stderr",
     "output_type": "stream",
     "text": [
      "100%|██████████| 233/233 [03:09<00:00,  1.23it/s, 0.2046 (0.1193) / 0.3004 0.1276, 0.8278, 0.8600]\n",
      "100%|██████████| 41/41 [00:43<00:00,  1.07s/it, 0.1152 (0.1111) / 0.3016 0.1318, 0.8807, 0.8995]\n"
     ]
    },
    {
     "name": "stdout",
     "output_type": "stream",
     "text": [
      "Epoch #1\n"
     ]
    },
    {
     "name": "stderr",
     "output_type": "stream",
     "text": [
      "100%|██████████| 233/233 [03:06<00:00,  1.25it/s, 0.0883 (0.0771) / 0.3004 0.1277, 0.8882, 0.9074]\n",
      "100%|██████████| 41/41 [00:42<00:00,  1.04s/it, 0.0692 (0.0642) / 0.3016 0.1318, 0.8895, 0.9107]\n"
     ]
    },
    {
     "name": "stdout",
     "output_type": "stream",
     "text": [
      "Epoch #2\n"
     ]
    },
    {
     "name": "stderr",
     "output_type": "stream",
     "text": [
      "100%|██████████| 233/233 [03:07<00:00,  1.24it/s, 0.0614 (0.0581) / 0.3004 0.1276, 0.8949, 0.9162]\n",
      "100%|██████████| 41/41 [00:43<00:00,  1.05s/it, 0.0563 (0.0459) / 0.3016 0.1318, 0.8888, 0.9115]\n"
     ]
    },
    {
     "name": "stdout",
     "output_type": "stream",
     "text": [
      "Epoch #3\n"
     ]
    },
    {
     "name": "stderr",
     "output_type": "stream",
     "text": [
      "100%|██████████| 233/233 [03:06<00:00,  1.25it/s, 0.0502 (0.0438) / 0.3004 0.1276, 0.8981, 0.9205]\n",
      "100%|██████████| 41/41 [00:43<00:00,  1.06s/it, 0.0488 (0.0468) / 0.3016 0.1318, 0.8965, 0.9165]\n"
     ]
    },
    {
     "name": "stdout",
     "output_type": "stream",
     "text": [
      "Epoch #4\n"
     ]
    },
    {
     "name": "stderr",
     "output_type": "stream",
     "text": [
      "100%|██████████| 233/233 [03:06<00:00,  1.25it/s, 0.0438 (0.0405) / 0.3004 0.1276, 0.9020, 0.9246]\n",
      "100%|██████████| 41/41 [00:43<00:00,  1.06s/it, 0.0451 (0.0623) / 0.3016 0.1318, 0.8916, 0.9103]\n"
     ]
    },
    {
     "name": "stdout",
     "output_type": "stream",
     "text": [
      "Epoch #5\n"
     ]
    },
    {
     "name": "stderr",
     "output_type": "stream",
     "text": [
      "100%|██████████| 233/233 [03:05<00:00,  1.26it/s, 0.0400 (0.0385) / 0.3004 0.1276, 0.9042, 0.9271]\n",
      "100%|██████████| 41/41 [00:42<00:00,  1.05s/it, 0.0432 (0.0460) / 0.3016 0.1318, 0.9044, 0.9246]\n"
     ]
    },
    {
     "name": "stdout",
     "output_type": "stream",
     "text": [
      "Epoch #6\n"
     ]
    },
    {
     "name": "stderr",
     "output_type": "stream",
     "text": [
      "100%|██████████| 233/233 [03:06<00:00,  1.25it/s, 0.0370 (0.0434) / 0.3004 0.1276, 0.9079, 0.9295]\n",
      "100%|██████████| 41/41 [00:42<00:00,  1.05s/it, 0.0425 (0.0395) / 0.3016 0.1318, 0.8954, 0.9117]\n"
     ]
    },
    {
     "name": "stdout",
     "output_type": "stream",
     "text": [
      "Epoch #7\n"
     ]
    },
    {
     "name": "stderr",
     "output_type": "stream",
     "text": [
      "100%|██████████| 233/233 [03:06<00:00,  1.25it/s, 0.0341 (0.0332) / 0.3004 0.1276, 0.9114, 0.9333]\n",
      "100%|██████████| 41/41 [00:42<00:00,  1.04s/it, 0.0410 (0.0467) / 0.3016 0.1318, 0.8934, 0.9153]\n"
     ]
    },
    {
     "name": "stdout",
     "output_type": "stream",
     "text": [
      "Epoch #8\n"
     ]
    },
    {
     "name": "stderr",
     "output_type": "stream",
     "text": [
      "100%|██████████| 233/233 [03:04<00:00,  1.26it/s, 0.0316 (0.0315) / 0.3004 0.1276, 0.9156, 0.9364]\n",
      "100%|██████████| 41/41 [00:43<00:00,  1.07s/it, 0.0409 (0.0490) / 0.3016 0.1318, 0.9041, 0.9214]\n"
     ]
    },
    {
     "name": "stdout",
     "output_type": "stream",
     "text": [
      "Epoch #9\n"
     ]
    },
    {
     "name": "stderr",
     "output_type": "stream",
     "text": [
      "100%|██████████| 233/233 [03:10<00:00,  1.22it/s, 0.0295 (0.0351) / 0.3003 0.1276, 0.9194, 0.9395]\n",
      "100%|██████████| 41/41 [00:43<00:00,  1.05s/it, 0.0414 (0.0337) / 0.3016 0.1318, 0.9009, 0.9187]\n",
      "100%|██████████| 41/41 [00:41<00:00,  1.02s/it, 0.0409 (0.0294) / 0.3016 0.1318, 0.9041, 0.9214]\n",
      "100%|██████████| 40/40 [00:42<00:00,  1.05s/it, 0.0407 (0.0394) / 0.3037 0.1301, 0.9054, 0.9224]\n",
      "100%|██████████| 128/128 [15:46<00:00,  7.39s/it]\n",
      "[I 2025-03-22 13:05:08,933] Trial 0 finished with value: 0.42779891702249806 and parameters: {'encoder_name': 'tu-swin_tiny_patch4_window7_224', 'lr': 0.0003573821900990741, 'batch_size': 32}. Best is trial 0 with value: 0.42779891702249806.\n",
      "C:\\Users\\atabass4\\AppData\\Local\\Temp\\ipykernel_26056\\217092170.py:5: FutureWarning: suggest_loguniform has been deprecated in v3.0.0. This feature will be removed in v6.0.0. See https://github.com/optuna/optuna/releases/tag/v3.0.0. Use suggest_float(..., log=True) instead.\n",
      "  lr=trial.suggest_loguniform('lr',1e-5,1e-3)\n",
      "100%|██████████| 16/16 [00:20<00:00,  1.28s/it]\n"
     ]
    },
    {
     "name": "stdout",
     "output_type": "stream",
     "text": [
      "Epoch #0\n"
     ]
    },
    {
     "name": "stderr",
     "output_type": "stream",
     "text": [
      "100%|██████████| 932/932 [08:04<00:00,  1.93it/s, 0.1491 (0.0770) / 0.3004 0.1276, 0.8235, 0.8617]\n",
      "100%|██████████| 161/161 [00:50<00:00,  3.22it/s, 0.0664 (0.0605) / 0.3016 0.1318, 0.8860, 0.9020]\n"
     ]
    },
    {
     "name": "stdout",
     "output_type": "stream",
     "text": [
      "Epoch #1\n"
     ]
    },
    {
     "name": "stderr",
     "output_type": "stream",
     "text": [
      "100%|██████████| 932/932 [08:01<00:00,  1.94it/s, 0.0527 (0.0694) / 0.3004 0.1277, 0.8894, 0.9135]\n",
      "100%|██████████| 161/161 [00:51<00:00,  3.12it/s, 0.0464 (0.0408) / 0.3016 0.1318, 0.8933, 0.9170]\n"
     ]
    },
    {
     "name": "stdout",
     "output_type": "stream",
     "text": [
      "Epoch #2\n"
     ]
    },
    {
     "name": "stderr",
     "output_type": "stream",
     "text": [
      "100%|██████████| 932/932 [08:01<00:00,  1.94it/s, 0.0424 (0.0354) / 0.3004 0.1276, 0.8949, 0.9187]\n",
      "100%|██████████| 161/161 [00:49<00:00,  3.24it/s, 0.0427 (0.0306) / 0.3016 0.1318, 0.8997, 0.9151]\n"
     ]
    },
    {
     "name": "stdout",
     "output_type": "stream",
     "text": [
      "Epoch #3\n"
     ]
    },
    {
     "name": "stderr",
     "output_type": "stream",
     "text": [
      "100%|██████████| 932/932 [08:04<00:00,  1.93it/s, 0.0378 (0.0397) / 0.3004 0.1276, 0.9002, 0.9230]\n",
      "100%|██████████| 161/161 [00:54<00:00,  2.95it/s, 0.0404 (0.0391) / 0.3016 0.1318, 0.9013, 0.9232]\n"
     ]
    },
    {
     "name": "stdout",
     "output_type": "stream",
     "text": [
      "Epoch #4\n"
     ]
    },
    {
     "name": "stderr",
     "output_type": "stream",
     "text": [
      "100%|██████████| 932/932 [08:02<00:00,  1.93it/s, 0.0357 (0.0310) / 0.3004 0.1276, 0.9028, 0.9255]\n",
      "100%|██████████| 161/161 [00:46<00:00,  3.47it/s, 0.0394 (0.0638) / 0.3016 0.1318, 0.8948, 0.9099]\n"
     ]
    },
    {
     "name": "stdout",
     "output_type": "stream",
     "text": [
      "Epoch #5\n"
     ]
    },
    {
     "name": "stderr",
     "output_type": "stream",
     "text": [
      "100%|██████████| 932/932 [08:03<00:00,  1.93it/s, 0.0333 (0.0323) / 0.3004 0.1276, 0.9074, 0.9294]\n",
      "100%|██████████| 161/161 [00:50<00:00,  3.17it/s, 0.0387 (0.0384) / 0.3016 0.1318, 0.9020, 0.9160]\n"
     ]
    },
    {
     "name": "stdout",
     "output_type": "stream",
     "text": [
      "Epoch #6\n"
     ]
    },
    {
     "name": "stderr",
     "output_type": "stream",
     "text": [
      "100%|██████████| 932/932 [08:03<00:00,  1.93it/s, 0.0315 (0.0353) / 0.3004 0.1276, 0.9110, 0.9319]\n",
      "100%|██████████| 161/161 [00:43<00:00,  3.69it/s, 0.0399 (0.0315) / 0.3016 0.1318, 0.9044, 0.9267]\n"
     ]
    },
    {
     "name": "stdout",
     "output_type": "stream",
     "text": [
      "Epoch #7\n"
     ]
    },
    {
     "name": "stderr",
     "output_type": "stream",
     "text": [
      "100%|██████████| 932/932 [08:03<00:00,  1.93it/s, 0.0295 (0.0331) / 0.3004 0.1276, 0.9156, 0.9358]\n",
      "100%|██████████| 161/161 [00:46<00:00,  3.46it/s, 0.0388 (0.0441) / 0.3016 0.1318, 0.8953, 0.9179]\n"
     ]
    },
    {
     "name": "stdout",
     "output_type": "stream",
     "text": [
      "Epoch #8\n"
     ]
    },
    {
     "name": "stderr",
     "output_type": "stream",
     "text": [
      "100%|██████████| 932/932 [08:01<00:00,  1.93it/s, 0.0273 (0.0316) / 0.3004 0.1276, 0.9202, 0.9400]\n",
      "100%|██████████| 161/161 [00:47<00:00,  3.40it/s, 0.0403 (0.0518) / 0.3016 0.1318, 0.9046, 0.9217]\n"
     ]
    },
    {
     "name": "stdout",
     "output_type": "stream",
     "text": [
      "Epoch #9\n"
     ]
    },
    {
     "name": "stderr",
     "output_type": "stream",
     "text": [
      "100%|██████████| 932/932 [08:02<00:00,  1.93it/s, 0.0255 (0.0273) / 0.3003 0.1276, 0.9244, 0.9429]\n",
      "100%|██████████| 161/161 [00:45<00:00,  3.58it/s, 0.0420 (0.0326) / 0.3016 0.1318, 0.9029, 0.9207]\n",
      "100%|██████████| 161/161 [00:44<00:00,  3.64it/s, 0.0387 (0.0275) / 0.3016 0.1318, 0.9020, 0.9160]\n",
      "100%|██████████| 160/160 [00:47<00:00,  3.34it/s, 0.0390 (0.0306) / 0.3037 0.1301, 0.9007, 0.9165]\n",
      "100%|██████████| 128/128 [34:12<00:00, 16.03s/it]\n",
      "[I 2025-03-22 15:10:19,035] Trial 1 finished with value: 0.42779891702249806 and parameters: {'encoder_name': 'tu-swinv2_tiny_window8_256', 'lr': 8.262217177563789e-05, 'batch_size': 8}. Best is trial 0 with value: 0.42779891702249806.\n",
      "C:\\Users\\atabass4\\AppData\\Local\\Temp\\ipykernel_26056\\217092170.py:5: FutureWarning: suggest_loguniform has been deprecated in v3.0.0. This feature will be removed in v6.0.0. See https://github.com/optuna/optuna/releases/tag/v3.0.0. Use suggest_float(..., log=True) instead.\n",
      "  lr=trial.suggest_loguniform('lr',1e-5,1e-3)\n",
      "100%|██████████| 16/16 [00:20<00:00,  1.28s/it]\n",
      "100%|██████████| 41/41 [00:41<00:00,  1.02s/it, 0.0387 (0.0275) / 0.3016 0.1318, 0.9020, 0.9160]\n",
      "100%|██████████| 40/40 [00:41<00:00,  1.04s/it, 0.0390 (0.0391) / 0.3037 0.1301, 0.9007, 0.9165]\n",
      "[I 2025-03-22 15:12:28,303] Trial 2 finished with value: 0.42779891702249806 and parameters: {'encoder_name': 'tu-swinv2_tiny_window8_256', 'lr': 0.0003479340335104827, 'batch_size': 32}. Best is trial 0 with value: 0.42779891702249806.\n",
      "C:\\Users\\atabass4\\AppData\\Local\\Temp\\ipykernel_26056\\217092170.py:5: FutureWarning: suggest_loguniform has been deprecated in v3.0.0. This feature will be removed in v6.0.0. See https://github.com/optuna/optuna/releases/tag/v3.0.0. Use suggest_float(..., log=True) instead.\n",
      "  lr=trial.suggest_loguniform('lr',1e-5,1e-3)\n",
      "100%|██████████| 16/16 [00:20<00:00,  1.26s/it]\n",
      "100%|██████████| 41/41 [00:41<00:00,  1.01s/it, 0.0387 (0.0275) / 0.3016 0.1318, 0.9020, 0.9160]\n",
      "100%|██████████| 40/40 [00:42<00:00,  1.06s/it, 0.0390 (0.0391) / 0.3037 0.1301, 0.9007, 0.9165]\n",
      "[I 2025-03-22 15:14:37,652] Trial 3 finished with value: 0.42779891702249806 and parameters: {'encoder_name': 'tu-swinv2_tiny_window8_256', 'lr': 6.8193979977123e-05, 'batch_size': 32}. Best is trial 0 with value: 0.42779891702249806.\n",
      "C:\\Users\\atabass4\\AppData\\Local\\Temp\\ipykernel_26056\\217092170.py:5: FutureWarning: suggest_loguniform has been deprecated in v3.0.0. This feature will be removed in v6.0.0. See https://github.com/optuna/optuna/releases/tag/v3.0.0. Use suggest_float(..., log=True) instead.\n",
      "  lr=trial.suggest_loguniform('lr',1e-5,1e-3)\n",
      "100%|██████████| 16/16 [00:20<00:00,  1.31s/it]\n",
      "100%|██████████| 161/161 [00:45<00:00,  3.52it/s, 0.0387 (0.0275) / 0.3016 0.1318, 0.9020, 0.9160]\n",
      "100%|██████████| 160/160 [00:43<00:00,  3.71it/s, 0.0390 (0.0306) / 0.3037 0.1301, 0.9007, 0.9165]\n",
      "[I 2025-03-22 15:16:53,121] Trial 4 finished with value: 0.42779891702249806 and parameters: {'encoder_name': 'tu-swinv2_tiny_window8_256', 'lr': 1.7644191931079813e-05, 'batch_size': 8}. Best is trial 0 with value: 0.42779891702249806.\n"
     ]
    },
    {
     "name": "stdout",
     "output_type": "stream",
     "text": [
      "Best hyperparameters:  {'encoder_name': 'tu-swin_tiny_patch4_window7_224', 'lr': 0.0003573821900990741, 'batch_size': 32}\n"
     ]
    }
   ],
   "source": [
    "def objective(trial):\n",
    "    # hyperparameters to optimize \n",
    "    encoder_name=trial.suggest_categorical('encoder_name',[\"tu-swin_tiny_patch4_window7_224\", \"tu-swinv2_tiny_window8_256\"])\n",
    "   # encoder_depth=trial.suggest_int(\"encoder_depth\",3,5)\n",
    "    lr=trial.suggest_loguniform('lr',1e-5,1e-3)\n",
    "    batch_size=trial.suggest_categorical(\"batch_size\",[8,16,32])\n",
    "    \n",
    "\n",
    "    #define the model \n",
    "    model=smp.Unet(encoder_name=encoder_name,encoder_weights=None,\n",
    "               in_channels=3,classes=1, img_size=128).to(device)\n",
    "    \n",
    "    num_epochs=10\n",
    "    file_path = 'a4c-video-dir/'\n",
    "    model_name=encoder_name\n",
    "    run_segmentation(data_dir=file_path, model=model, num_epochs=num_epochs, model_name=model_name, lr=lr , batch_size=batch_size, output=f'output_{model_name}', run_test=True , save_video=True)\n",
    "    val_loss = np.random.rand()\n",
    "    return val_loss\n",
    "\n",
    "# Create a study and optimize the objective function\n",
    "study = optuna.create_study(direction=\"minimize\")\n",
    "study.optimize(objective, n_trials=5)\n",
    "\n",
    "# Print the best hyperparameters\n",
    "print(\"Best hyperparameters: \", study.best_params)\n",
    "\n",
    "    \n",
    " \n",
    "   "
   ]
  },
  {
   "cell_type": "code",
   "execution_count": 6,
   "metadata": {},
   "outputs": [],
   "source": [
    "model=smp.Unet(encoder_name='tu-swin_tiny_patch4_window7_224',encoder_weights=None,\n",
    "               in_channels=3,classes=1,img_size=128).to(device)"
   ]
  },
  {
   "cell_type": "code",
   "execution_count": 9,
   "metadata": {},
   "outputs": [
    {
     "name": "stderr",
     "output_type": "stream",
     "text": [
      "100%|██████████| 16/16 [00:20<00:00,  1.27s/it]\n"
     ]
    },
    {
     "name": "stdout",
     "output_type": "stream",
     "text": [
      "Epoch #0\n"
     ]
    },
    {
     "name": "stderr",
     "output_type": "stream",
     "text": [
      "100%|██████████| 233/233 [02:35<00:00,  1.50it/s, 0.2733 (0.1683) / 0.3004 0.1276, 0.7693, 0.8335]\n",
      "100%|██████████| 41/41 [00:42<00:00,  1.03s/it, 0.1637 (0.1605) / 0.3016 0.1318, 0.8775, 0.8946]\n"
     ]
    },
    {
     "name": "stdout",
     "output_type": "stream",
     "text": [
      "Epoch #1\n"
     ]
    },
    {
     "name": "stderr",
     "output_type": "stream",
     "text": [
      "100%|██████████| 233/233 [02:38<00:00,  1.47it/s, 0.1220 (0.1016) / 0.3004 0.1277, 0.8857, 0.9081]\n",
      "100%|██████████| 41/41 [00:42<00:00,  1.05s/it, 0.0941 (0.0909) / 0.3016 0.1318, 0.8855, 0.9051]\n"
     ]
    },
    {
     "name": "stdout",
     "output_type": "stream",
     "text": [
      "Epoch #2\n"
     ]
    },
    {
     "name": "stderr",
     "output_type": "stream",
     "text": [
      "100%|██████████| 233/233 [02:38<00:00,  1.47it/s, 0.0788 (0.0698) / 0.3004 0.1276, 0.8933, 0.9178]\n",
      "100%|██████████| 41/41 [00:42<00:00,  1.04s/it, 0.0681 (0.0574) / 0.3016 0.1318, 0.8941, 0.9137]\n"
     ]
    },
    {
     "name": "stdout",
     "output_type": "stream",
     "text": [
      "Epoch #3\n"
     ]
    },
    {
     "name": "stderr",
     "output_type": "stream",
     "text": [
      "100%|██████████| 233/233 [02:35<00:00,  1.49it/s, 0.0606 (0.0525) / 0.3004 0.1276, 0.8966, 0.9216]\n",
      "100%|██████████| 41/41 [00:45<00:00,  1.12s/it, 0.0571 (0.0566) / 0.3016 0.1318, 0.8984, 0.9139]\n"
     ]
    },
    {
     "name": "stdout",
     "output_type": "stream",
     "text": [
      "Epoch #4\n"
     ]
    },
    {
     "name": "stderr",
     "output_type": "stream",
     "text": [
      "100%|██████████| 233/233 [02:39<00:00,  1.46it/s, 0.0507 (0.0452) / 0.3004 0.1276, 0.9005, 0.9252]\n",
      "100%|██████████| 41/41 [00:42<00:00,  1.03s/it, 0.0498 (0.0606) / 0.3016 0.1318, 0.8986, 0.9171]\n"
     ]
    },
    {
     "name": "stdout",
     "output_type": "stream",
     "text": [
      "Epoch #5\n"
     ]
    },
    {
     "name": "stderr",
     "output_type": "stream",
     "text": [
      "100%|██████████| 233/233 [02:35<00:00,  1.50it/s, 0.0449 (0.0424) / 0.3004 0.1276, 0.9026, 0.9275]\n",
      "100%|██████████| 41/41 [00:41<00:00,  1.02s/it, 0.0468 (0.0492) / 0.3016 0.1318, 0.9056, 0.9230]\n"
     ]
    },
    {
     "name": "stdout",
     "output_type": "stream",
     "text": [
      "Epoch #6\n"
     ]
    },
    {
     "name": "stderr",
     "output_type": "stream",
     "text": [
      "100%|██████████| 233/233 [02:36<00:00,  1.48it/s, 0.0405 (0.0474) / 0.3004 0.1276, 0.9068, 0.9300]\n",
      "100%|██████████| 41/41 [00:41<00:00,  1.02s/it, 0.0452 (0.0431) / 0.3016 0.1318, 0.8953, 0.9088]\n"
     ]
    },
    {
     "name": "stdout",
     "output_type": "stream",
     "text": [
      "Epoch #7\n"
     ]
    },
    {
     "name": "stderr",
     "output_type": "stream",
     "text": [
      "100%|██████████| 233/233 [02:35<00:00,  1.50it/s, 0.0371 (0.0362) / 0.3004 0.1276, 0.9094, 0.9331]\n",
      "100%|██████████| 41/41 [00:41<00:00,  1.02s/it, 0.0430 (0.0449) / 0.3016 0.1318, 0.9016, 0.9184]\n"
     ]
    },
    {
     "name": "stdout",
     "output_type": "stream",
     "text": [
      "Epoch #8\n"
     ]
    },
    {
     "name": "stderr",
     "output_type": "stream",
     "text": [
      "100%|██████████| 233/233 [02:35<00:00,  1.50it/s, 0.0345 (0.0335) / 0.3004 0.1276, 0.9124, 0.9353]\n",
      "100%|██████████| 41/41 [00:41<00:00,  1.01s/it, 0.0424 (0.0474) / 0.3016 0.1318, 0.9050, 0.9225]\n"
     ]
    },
    {
     "name": "stdout",
     "output_type": "stream",
     "text": [
      "Epoch #9\n"
     ]
    },
    {
     "name": "stderr",
     "output_type": "stream",
     "text": [
      "100%|██████████| 233/233 [02:42<00:00,  1.43it/s, 0.0317 (0.0355) / 0.3003 0.1276, 0.9171, 0.9388]\n",
      "100%|██████████| 41/41 [00:43<00:00,  1.06s/it, 0.0426 (0.0390) / 0.3016 0.1318, 0.9033, 0.9215]\n",
      "100%|██████████| 41/41 [00:42<00:00,  1.03s/it, 0.0424 (0.0331) / 0.3016 0.1318, 0.9050, 0.9225]\n",
      "100%|██████████| 40/40 [00:41<00:00,  1.03s/it, 0.0424 (0.0420) / 0.3037 0.1301, 0.9054, 0.9228]\n",
      "100%|██████████| 128/128 [14:35<00:00,  6.84s/it]\n"
     ]
    }
   ],
   "source": [
    "model_name='tu-swin_tiny_patch4_window7_224'\n",
    "run_segmentation(data_dir=file_path, model=model, num_epochs=10, model_name=model_name, lr=0.000357 , batch_size=32, output=f'best_param_output', run_test=True , save_video=True)"
   ]
  }
 ],
 "metadata": {
  "kernelspec": {
   "display_name": "Python 3",
   "language": "python",
   "name": "python3"
  },
  "language_info": {
   "codemirror_mode": {
    "name": "ipython",
    "version": 3
   },
   "file_extension": ".py",
   "mimetype": "text/x-python",
   "name": "python",
   "nbconvert_exporter": "python",
   "pygments_lexer": "ipython3",
   "version": "3.12.3"
  }
 },
 "nbformat": 4,
 "nbformat_minor": 2
}
